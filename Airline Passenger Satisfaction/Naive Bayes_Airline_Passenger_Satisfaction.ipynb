{
 "cells": [
  {
   "cell_type": "code",
   "execution_count": null,
   "id": "ec346b65",
   "metadata": {},
   "outputs": [],
   "source": [
    "#Fonctionne avec quantitative + qualitative + qualitative ordinale\n"
   ]
  },
  {
   "cell_type": "code",
   "execution_count": 1,
   "id": "fbf394b9",
   "metadata": {},
   "outputs": [],
   "source": [
    "import pandas as pd\n",
    "import numpy as np\n",
    "from matplotlib import pyplot as plt\n",
    "import seaborn as sns"
   ]
  },
  {
   "cell_type": "code",
   "execution_count": 2,
   "id": "515da53a",
   "metadata": {},
   "outputs": [],
   "source": [
    "df = pd.read_csv(\"./airline_satisfaction.csv\")\n",
    "df.drop('Unnamed: 0', inplace = True, axis=1)\n",
    "df.shape\n",
    "df=df.dropna()"
   ]
  },
  {
   "cell_type": "code",
   "execution_count": 4,
   "id": "2223dcc8",
   "metadata": {},
   "outputs": [],
   "source": [
    "# My target is satisfaction\n",
    "y = df.satisfaction.values\n",
    "#Sans retard en vol, tranche_age\n",
    "categorical_variables = [\"Departure/Arrival time convenient\",\"Ease of Online booking\",\"Gate location\",\n",
    "           \"Food and drink\",\"Online boarding\",\"Seat comfort\",\"Inflight entertainment\",\"On-board service\",\"Leg room service\",\n",
    "           \"Baggage handling\",\"Checkin service\",\"Inflight service\",\"Cleanliness\",\"Gender\",\"Customer Type\",\"Type of Travel\"]\n",
    "quantitative_variables = [\"Age\",\"Flight Distance\",\"Arrival Delay in Minutes\",\"Departure Delay in Minutes\"]\n",
    "X = df[categorical_variables + quantitative_variables].values\n",
    "X_quantitative = df[quantitative_variables].values\n",
    "X_categorical = df[categorical_variables].values\n",
    "\n"
   ]
  },
  {
   "cell_type": "code",
   "execution_count": 6,
   "id": "7d7490cf",
   "metadata": {},
   "outputs": [],
   "source": [
    "from sklearn.naive_bayes import GaussianNB\n",
    "from sklearn.metrics import classification_report"
   ]
  },
  {
   "cell_type": "code",
   "execution_count": 7,
   "id": "dce5dbce",
   "metadata": {},
   "outputs": [
    {
     "name": "stdout",
     "output_type": "stream",
     "text": [
      "======= Training\n",
      "======= Prediction\n",
      "======= Results\n",
      "                         precision    recall  f1-score   support\n",
      "\n",
      "neutral or dissatisfied       0.66      0.84      0.74     73225\n",
      "              satisfied       0.68      0.45      0.54     56262\n",
      "\n",
      "               accuracy                           0.67    129487\n",
      "              macro avg       0.67      0.64      0.64    129487\n",
      "           weighted avg       0.67      0.67      0.65    129487\n",
      "\n"
     ]
    }
   ],
   "source": [
    "gaussian_nb = GaussianNB()\n",
    "\n",
    "print(\"======= Training\")\n",
    "gaussian_nb.fit(X_quantitative, y)\n",
    "\n",
    "print(\"======= Prediction\")\n",
    "predictions = gaussian_nb.predict(X_quantitative)\n",
    "\n",
    "print(\"======= Results\")\n",
    "print(classification_report(y, predictions))"
   ]
  },
  {
   "cell_type": "code",
   "execution_count": null,
   "id": "cc2bd3ed",
   "metadata": {},
   "outputs": [],
   "source": [
    "target=[\"satisfaction\"]"
   ]
  },
  {
   "cell_type": "code",
   "execution_count": null,
   "id": "c92251fd",
   "metadata": {},
   "outputs": [],
   "source": [
    "for var in X_quantitative.T:\n",
    "    plt.hist(var)\n",
    "    plt.show()"
   ]
  },
  {
   "cell_type": "code",
   "execution_count": null,
   "id": "c6219e73",
   "metadata": {},
   "outputs": [],
   "source": [
    "#Question 2\n",
    "gaussian_nb = GaussianNB()\n",
    "gaussian_nb.fit(X_quantitative,y)\n",
    "predictions = gaussian_nb.predict(X_quantitative)"
   ]
  },
  {
   "cell_type": "code",
   "execution_count": null,
   "id": "f88ec7cd",
   "metadata": {},
   "outputs": [],
   "source": [
    "#Question 3\n",
    "predicted_proba = gaussian_nb.predict_proba(X_quantitative)\n",
    "plt.scatter(X_quantitative[:,0], X_quantitative[:,1],c=predicted_proba[:,0])"
   ]
  },
  {
   "cell_type": "code",
   "execution_count": null,
   "id": "1400e5a2",
   "metadata": {},
   "outputs": [],
   "source": [
    "from sklearn.naive_bayes import CategoricalNB\n",
    "from sklearn.preprocessing import LabelEncoder"
   ]
  },
  {
   "cell_type": "code",
   "execution_count": null,
   "id": "d8cfa1b6",
   "metadata": {},
   "outputs": [],
   "source": [
    "encoder = LabelEncoder()\n",
    "encoded_vars = []\n",
    "for category in X_categorical.T:\n",
    "    encoded_vars.append(encoder.fit_transform(category))"
   ]
  },
  {
   "cell_type": "code",
   "execution_count": null,
   "id": "3e8549d7",
   "metadata": {},
   "outputs": [],
   "source": [
    "X_cat = np.array(encoded_vars).T"
   ]
  },
  {
   "cell_type": "code",
   "execution_count": null,
   "id": "08cbf318",
   "metadata": {},
   "outputs": [],
   "source": [
    "gaussian_nb_categorical = CategoricalNB()\n",
    "\n",
    "print(\"======= Training\")\n",
    "gaussian_nb_categorical.fit(X_cat, y)\n",
    "\n",
    "print(\"======= Prediction\")\n",
    "predictions = gaussian_nb_categorical.predict(X_cat)\n",
    "\n",
    "print(\"======= Results\")\n",
    "print(classification_report(y, predictions))"
   ]
  },
  {
   "cell_type": "code",
   "execution_count": null,
   "id": "7d95cb55",
   "metadata": {},
   "outputs": [],
   "source": [
    "import seaborn as sns"
   ]
  },
  {
   "cell_type": "code",
   "execution_count": null,
   "id": "6d4e51f5",
   "metadata": {},
   "outputs": [],
   "source": [
    "predict_probas = gaussian_nb_categorical.predict_proba(X_cat)\n",
    "\n",
    "df = pd.DataFrame(X_categorical)\n",
    "df_cat = df.assign(proba=predict_probas[:,0])"
   ]
  },
  {
   "cell_type": "code",
   "execution_count": null,
   "id": "74132b1a",
   "metadata": {},
   "outputs": [],
   "source": [
    "df_cat"
   ]
  },
  {
   "cell_type": "code",
   "execution_count": null,
   "id": "267d78a9",
   "metadata": {},
   "outputs": [],
   "source": [
    "sns.boxplot(df_cat, x=\"proba\", y=0)"
   ]
  },
  {
   "cell_type": "code",
   "execution_count": null,
   "id": "e71d8d05",
   "metadata": {},
   "outputs": [],
   "source": [
    "# Implementation of a two step gaussian nb model\n",
    "\n",
    "# Using the full dataset\n",
    "gaussian_nb_quanta = GaussianNB()\n",
    "gaussian_nb_quanta.fit(X_quantitative, y)\n",
    "gaussian_nb_categorical = CategoricalNB()\n",
    "gaussian_nb_categorical.fit(X_cat, y)\n",
    "\n",
    "gaussian_full = GaussianNB()\n",
    "proba_matrix = np.concatenate([gaussian_nb_quanta.predict_proba(X_quantitative)[:,0].reshape(-1,1), gaussian_nb_categorical.predict_proba(X_cat)[:,0].reshape(-1, 1)], axis=1)\n",
    "gaussian_full.fit(proba_matrix, y)\n",
    "\n",
    "print(\"===== Accuracy using full dataset\")\n",
    "gaussian_full.score(proba_matrix, y)"
   ]
  },
  {
   "cell_type": "code",
   "execution_count": null,
   "id": "75ce830a",
   "metadata": {},
   "outputs": [],
   "source": [
    "df_all = df.assign(proba_all=proba_matrix[:,0])"
   ]
  },
  {
   "cell_type": "code",
   "execution_count": null,
   "id": "e700bd42",
   "metadata": {},
   "outputs": [],
   "source": [
    "sns.boxplot(df_all, x=\"proba_all\", y=0)"
   ]
  },
  {
   "cell_type": "code",
   "execution_count": null,
   "id": "22833fca",
   "metadata": {},
   "outputs": [],
   "source": []
  },
  {
   "cell_type": "code",
   "execution_count": null,
   "id": "bb69ee06",
   "metadata": {},
   "outputs": [],
   "source": []
  },
  {
   "cell_type": "code",
   "execution_count": null,
   "id": "3c7d49ec",
   "metadata": {},
   "outputs": [],
   "source": []
  },
  {
   "cell_type": "code",
   "execution_count": null,
   "id": "2dfb1d8d",
   "metadata": {},
   "outputs": [],
   "source": []
  },
  {
   "cell_type": "code",
   "execution_count": null,
   "id": "238098d9",
   "metadata": {},
   "outputs": [],
   "source": []
  }
 ],
 "metadata": {
  "kernelspec": {
   "display_name": "Python 3 (ipykernel)",
   "language": "python",
   "name": "python3"
  },
  "language_info": {
   "codemirror_mode": {
    "name": "ipython",
    "version": 3
   },
   "file_extension": ".py",
   "mimetype": "text/x-python",
   "name": "python",
   "nbconvert_exporter": "python",
   "pygments_lexer": "ipython3",
   "version": "3.9.13"
  }
 },
 "nbformat": 4,
 "nbformat_minor": 5
}
