{
 "cells": [
  {
   "cell_type": "code",
   "execution_count": 1,
   "id": "fa2fa355",
   "metadata": {},
   "outputs": [],
   "source": [
    "import pandas as pd\n",
    "import numpy as np\n",
    "from matplotlib import pyplot as plt\n",
    "df = pd.read_csv(\"cc1/airline_satisfaction.csv\")\n",
    "df.drop('Unnamed: 0', inplace = True, axis=1)\n",
    "df =df.dropna()"
   ]
  },
  {
   "cell_type": "code",
   "execution_count": 108,
   "id": "4303099f",
   "metadata": {},
   "outputs": [],
   "source": [
    "df = df.sample(n=50000)"
   ]
  },
  {
   "cell_type": "code",
   "execution_count": 2,
   "id": "330a11e9",
   "metadata": {},
   "outputs": [
    {
     "name": "stdout",
     "output_type": "stream",
     "text": [
      "13\n"
     ]
    }
   ],
   "source": [
    "ordinal = [\"Departure/Arrival time convenient\",\"Ease of Online booking\",\"Gate location\",\n",
    "           \"Food and drink\",\"Online boarding\",\"Seat comfort\",\"Inflight entertainment\",\"On-board service\",\"Leg room service\",\n",
    "           \"Baggage handling\",\"Checkin service\",\"Inflight service\",\"Cleanliness\"]\n",
    "df[\"Note_totale\"]=df[\"Inflight wifi service\"]\n",
    "print(len(ordinal))\n",
    "for i in ordinal:\n",
    "    df[\"Note_totale\"]+=df[i]"
   ]
  },
  {
   "cell_type": "code",
   "execution_count": 3,
   "id": "7281ba69",
   "metadata": {},
   "outputs": [],
   "source": [
    "ordinal += [\"Inflight wifi service\"]\n",
    "target=[\"satisfaction\"]\n",
    "quantitative =[\"Age\",\"Flight Distance\",\"Arrival Delay in Minutes\",\"Departure Delay in Minutes\",\"Note_totale\"]\n",
    "ordinal+=[\"Class\"]\n",
    "qualitative=[\"Gender\",\"Customer Type\",\"Type of Travel\"]\n",
    "features=quantitative+qualitative+ordinal"
   ]
  },
  {
   "cell_type": "markdown",
   "id": "bf1ace43",
   "metadata": {},
   "source": [
    "Preprocessing : \n"
   ]
  },
  {
   "cell_type": "code",
   "execution_count": 4,
   "id": "edba6e11",
   "metadata": {},
   "outputs": [],
   "source": [
    "X_qualitative = df[qualitative].values\n",
    "X_ordinal = df [ordinal].values\n",
    "X_quantitative_n = df[[\"Age\",\"Arrival Delay in Minutes\",\"Departure Delay in Minutes\",\"Note_totale\"]].values\n",
    "X_quantitative_2 = df[[\"Flight Distance\"]].values"
   ]
  },
  {
   "cell_type": "code",
   "execution_count": 5,
   "id": "0cfc6976",
   "metadata": {},
   "outputs": [],
   "source": [
    "from sklearn.preprocessing import OneHotEncoder\n",
    "one_hot_encoder = OneHotEncoder()\n",
    "#one_hot_encoder.fit(X_qualitative)\n",
    "one_hot_encoded_X = one_hot_encoder.fit_transform(X_qualitative)\n",
    "one_hot_encoded_X.toarray()\n",
    "one_hot_encoder.get_feature_names_out()\n",
    "X_encoded = np.concatenate([one_hot_encoded_X.toarray(),X_qualitative], axis =1) # faire ça pour chaque puis insert"
   ]
  },
  {
   "cell_type": "code",
   "execution_count": 6,
   "id": "a8e7f4eb",
   "metadata": {},
   "outputs": [
    {
     "data": {
      "text/plain": [
       "<129487x6 sparse matrix of type '<class 'numpy.float64'>'\n",
       "\twith 388461 stored elements in Compressed Sparse Row format>"
      ]
     },
     "execution_count": 6,
     "metadata": {},
     "output_type": "execute_result"
    }
   ],
   "source": [
    "one_hot_encoded_X"
   ]
  },
  {
   "cell_type": "code",
   "execution_count": 7,
   "id": "384a1aa9",
   "metadata": {
    "scrolled": true
   },
   "outputs": [
    {
     "name": "stdout",
     "output_type": "stream",
     "text": [
      "===== Encoded classes: [0 1 2 3 4 5]\n",
      "===== Encoded classes: [0 1 2 3 4 5]\n",
      "===== Encoded classes: [0 1 2 3 4 5]\n",
      "===== Encoded classes: [0 1 2 3 4 5]\n",
      "===== Encoded classes: [0 1 2 3 4 5]\n",
      "===== Encoded classes: [0 1 2 3 4 5]\n",
      "===== Encoded classes: [0 1 2 3 4 5]\n",
      "===== Encoded classes: [0 1 2 3 4 5]\n",
      "===== Encoded classes: [0 1 2 3 4 5]\n",
      "===== Encoded classes: [1 2 3 4 5]\n",
      "===== Encoded classes: [0 1 2 3 4 5]\n",
      "===== Encoded classes: [0 1 2 3 4 5]\n",
      "===== Encoded classes: [0 1 2 3 4 5]\n",
      "===== Encoded classes: [0 1 2 3 4 5]\n",
      "===== Encoded classes: ['Business' 'Eco' 'Eco Plus']\n"
     ]
    }
   ],
   "source": [
    "from sklearn.preprocessing import LabelEncoder\n",
    "label_encoder = LabelEncoder()\n",
    "encoded_vars = []\n",
    "for categorical_var in X_ordinal.T:\n",
    "    encoded_vars.append(label_encoder.fit_transform(categorical_var))\n",
    "    print(f\"===== Encoded classes: {label_encoder.classes_}\")"
   ]
  },
  {
   "cell_type": "code",
   "execution_count": 8,
   "id": "e9be45be",
   "metadata": {},
   "outputs": [],
   "source": [
    "X_ordinal = np.array(encoded_vars).T"
   ]
  },
  {
   "cell_type": "code",
   "execution_count": 9,
   "id": "0193b11a",
   "metadata": {},
   "outputs": [],
   "source": [
    "from sklearn.preprocessing import MinMaxScaler\n",
    "min_max_scaler = MinMaxScaler()\n",
    "X_min_max_scaled = min_max_scaler.fit_transform(X=X_quantitative_2)"
   ]
  },
  {
   "cell_type": "code",
   "execution_count": 10,
   "id": "af053807",
   "metadata": {},
   "outputs": [],
   "source": [
    "from sklearn.preprocessing import StandardScaler\n",
    "standard_scaler = StandardScaler()\n",
    "standard_scaled = standard_scaler.fit_transform(X=X_quantitative_n)"
   ]
  },
  {
   "cell_type": "code",
   "execution_count": 30,
   "id": "9317a1cb",
   "metadata": {},
   "outputs": [],
   "source": [
    "X_encoded = pd.concat([pd.DataFrame(one_hot_encoded_X.toarray()),pd.DataFrame(X_ordinal),pd.DataFrame(X_min_max_scaled),pd.DataFrame(standard_scaled)],axis=1)"
   ]
  },
  {
   "cell_type": "code",
   "execution_count": 34,
   "id": "adc9a3b3",
   "metadata": {},
   "outputs": [
    {
     "data": {
      "text/html": [
       "<div>\n",
       "<style scoped>\n",
       "    .dataframe tbody tr th:only-of-type {\n",
       "        vertical-align: middle;\n",
       "    }\n",
       "\n",
       "    .dataframe tbody tr th {\n",
       "        vertical-align: top;\n",
       "    }\n",
       "\n",
       "    .dataframe thead th {\n",
       "        text-align: right;\n",
       "    }\n",
       "</style>\n",
       "<table border=\"1\" class=\"dataframe\">\n",
       "  <thead>\n",
       "    <tr style=\"text-align: right;\">\n",
       "      <th></th>\n",
       "      <th>0</th>\n",
       "      <th>1</th>\n",
       "      <th>2</th>\n",
       "      <th>3</th>\n",
       "      <th>4</th>\n",
       "      <th>5</th>\n",
       "      <th>0</th>\n",
       "      <th>1</th>\n",
       "      <th>2</th>\n",
       "      <th>3</th>\n",
       "      <th>...</th>\n",
       "      <th>10</th>\n",
       "      <th>11</th>\n",
       "      <th>12</th>\n",
       "      <th>13</th>\n",
       "      <th>14</th>\n",
       "      <th>0</th>\n",
       "      <th>0</th>\n",
       "      <th>1</th>\n",
       "      <th>2</th>\n",
       "      <th>3</th>\n",
       "    </tr>\n",
       "  </thead>\n",
       "  <tbody>\n",
       "    <tr>\n",
       "      <th>count</th>\n",
       "      <td>129487.000000</td>\n",
       "      <td>129487.000000</td>\n",
       "      <td>129487.000000</td>\n",
       "      <td>129487.000000</td>\n",
       "      <td>129487.000000</td>\n",
       "      <td>129487.000000</td>\n",
       "      <td>129487.000000</td>\n",
       "      <td>129487.000000</td>\n",
       "      <td>129487.000000</td>\n",
       "      <td>129487.000000</td>\n",
       "      <td>...</td>\n",
       "      <td>129487.000000</td>\n",
       "      <td>129487.000000</td>\n",
       "      <td>129487.000000</td>\n",
       "      <td>129487.000000</td>\n",
       "      <td>129487.000000</td>\n",
       "      <td>129487.000000</td>\n",
       "      <td>1.294870e+05</td>\n",
       "      <td>1.294870e+05</td>\n",
       "      <td>1.294870e+05</td>\n",
       "      <td>1.294870e+05</td>\n",
       "    </tr>\n",
       "    <tr>\n",
       "      <th>mean</th>\n",
       "      <td>0.507410</td>\n",
       "      <td>0.492590</td>\n",
       "      <td>0.816862</td>\n",
       "      <td>0.183138</td>\n",
       "      <td>0.690764</td>\n",
       "      <td>0.309236</td>\n",
       "      <td>3.057349</td>\n",
       "      <td>2.756786</td>\n",
       "      <td>2.976909</td>\n",
       "      <td>3.204685</td>\n",
       "      <td>...</td>\n",
       "      <td>3.306239</td>\n",
       "      <td>3.642373</td>\n",
       "      <td>3.286222</td>\n",
       "      <td>2.728544</td>\n",
       "      <td>0.593704</td>\n",
       "      <td>0.234089</td>\n",
       "      <td>-5.549664e-16</td>\n",
       "      <td>1.934504e-15</td>\n",
       "      <td>1.292855e-15</td>\n",
       "      <td>-2.133626e-16</td>\n",
       "    </tr>\n",
       "    <tr>\n",
       "      <th>std</th>\n",
       "      <td>0.499947</td>\n",
       "      <td>0.499947</td>\n",
       "      <td>0.386781</td>\n",
       "      <td>0.386781</td>\n",
       "      <td>0.462180</td>\n",
       "      <td>0.462180</td>\n",
       "      <td>1.526787</td>\n",
       "      <td>1.401662</td>\n",
       "      <td>1.278506</td>\n",
       "      <td>1.329905</td>\n",
       "      <td>...</td>\n",
       "      <td>1.266146</td>\n",
       "      <td>1.176614</td>\n",
       "      <td>1.313624</td>\n",
       "      <td>1.329235</td>\n",
       "      <td>0.621371</td>\n",
       "      <td>0.201446</td>\n",
       "      <td>1.000004e+00</td>\n",
       "      <td>1.000004e+00</td>\n",
       "      <td>1.000004e+00</td>\n",
       "      <td>1.000004e+00</td>\n",
       "    </tr>\n",
       "    <tr>\n",
       "      <th>min</th>\n",
       "      <td>0.000000</td>\n",
       "      <td>0.000000</td>\n",
       "      <td>0.000000</td>\n",
       "      <td>0.000000</td>\n",
       "      <td>0.000000</td>\n",
       "      <td>0.000000</td>\n",
       "      <td>0.000000</td>\n",
       "      <td>0.000000</td>\n",
       "      <td>0.000000</td>\n",
       "      <td>0.000000</td>\n",
       "      <td>...</td>\n",
       "      <td>0.000000</td>\n",
       "      <td>0.000000</td>\n",
       "      <td>0.000000</td>\n",
       "      <td>0.000000</td>\n",
       "      <td>0.000000</td>\n",
       "      <td>0.000000</td>\n",
       "      <td>-2.145109e+00</td>\n",
       "      <td>-3.923289e-01</td>\n",
       "      <td>-3.860357e-01</td>\n",
       "      <td>-3.278910e+00</td>\n",
       "    </tr>\n",
       "    <tr>\n",
       "      <th>25%</th>\n",
       "      <td>0.000000</td>\n",
       "      <td>0.000000</td>\n",
       "      <td>1.000000</td>\n",
       "      <td>0.000000</td>\n",
       "      <td>0.000000</td>\n",
       "      <td>0.000000</td>\n",
       "      <td>2.000000</td>\n",
       "      <td>2.000000</td>\n",
       "      <td>2.000000</td>\n",
       "      <td>2.000000</td>\n",
       "      <td>...</td>\n",
       "      <td>3.000000</td>\n",
       "      <td>3.000000</td>\n",
       "      <td>2.000000</td>\n",
       "      <td>2.000000</td>\n",
       "      <td>0.000000</td>\n",
       "      <td>0.077342</td>\n",
       "      <td>-8.221419e-01</td>\n",
       "      <td>-3.923289e-01</td>\n",
       "      <td>-3.860357e-01</td>\n",
       "      <td>-6.883924e-01</td>\n",
       "    </tr>\n",
       "    <tr>\n",
       "      <th>50%</th>\n",
       "      <td>1.000000</td>\n",
       "      <td>0.000000</td>\n",
       "      <td>1.000000</td>\n",
       "      <td>0.000000</td>\n",
       "      <td>1.000000</td>\n",
       "      <td>0.000000</td>\n",
       "      <td>3.000000</td>\n",
       "      <td>3.000000</td>\n",
       "      <td>3.000000</td>\n",
       "      <td>3.000000</td>\n",
       "      <td>...</td>\n",
       "      <td>3.000000</td>\n",
       "      <td>4.000000</td>\n",
       "      <td>3.000000</td>\n",
       "      <td>3.000000</td>\n",
       "      <td>1.000000</td>\n",
       "      <td>0.164176</td>\n",
       "      <td>3.778650e-02</td>\n",
       "      <td>-3.923289e-01</td>\n",
       "      <td>-3.860357e-01</td>\n",
       "      <td>6.717516e-02</td>\n",
       "    </tr>\n",
       "    <tr>\n",
       "      <th>75%</th>\n",
       "      <td>1.000000</td>\n",
       "      <td>1.000000</td>\n",
       "      <td>1.000000</td>\n",
       "      <td>0.000000</td>\n",
       "      <td>1.000000</td>\n",
       "      <td>1.000000</td>\n",
       "      <td>4.000000</td>\n",
       "      <td>4.000000</td>\n",
       "      <td>4.000000</td>\n",
       "      <td>4.000000</td>\n",
       "      <td>...</td>\n",
       "      <td>4.000000</td>\n",
       "      <td>5.000000</td>\n",
       "      <td>4.000000</td>\n",
       "      <td>4.000000</td>\n",
       "      <td>1.000000</td>\n",
       "      <td>0.345921</td>\n",
       "      <td>7.654182e-01</td>\n",
       "      <td>-5.436375e-02</td>\n",
       "      <td>-6.968615e-02</td>\n",
       "      <td>7.148045e-01</td>\n",
       "    </tr>\n",
       "    <tr>\n",
       "      <th>max</th>\n",
       "      <td>1.000000</td>\n",
       "      <td>1.000000</td>\n",
       "      <td>1.000000</td>\n",
       "      <td>1.000000</td>\n",
       "      <td>1.000000</td>\n",
       "      <td>1.000000</td>\n",
       "      <td>5.000000</td>\n",
       "      <td>5.000000</td>\n",
       "      <td>5.000000</td>\n",
       "      <td>5.000000</td>\n",
       "      <td>...</td>\n",
       "      <td>5.000000</td>\n",
       "      <td>5.000000</td>\n",
       "      <td>5.000000</td>\n",
       "      <td>5.000000</td>\n",
       "      <td>2.000000</td>\n",
       "      <td>1.000000</td>\n",
       "      <td>3.014462e+00</td>\n",
       "      <td>4.078743e+01</td>\n",
       "      <td>4.158301e+01</td>\n",
       "      <td>2.657693e+00</td>\n",
       "    </tr>\n",
       "  </tbody>\n",
       "</table>\n",
       "<p>8 rows × 26 columns</p>\n",
       "</div>"
      ],
      "text/plain": [
       "                  0              1              2              3   \\\n",
       "count  129487.000000  129487.000000  129487.000000  129487.000000   \n",
       "mean        0.507410       0.492590       0.816862       0.183138   \n",
       "std         0.499947       0.499947       0.386781       0.386781   \n",
       "min         0.000000       0.000000       0.000000       0.000000   \n",
       "25%         0.000000       0.000000       1.000000       0.000000   \n",
       "50%         1.000000       0.000000       1.000000       0.000000   \n",
       "75%         1.000000       1.000000       1.000000       0.000000   \n",
       "max         1.000000       1.000000       1.000000       1.000000   \n",
       "\n",
       "                  4              5              0              1   \\\n",
       "count  129487.000000  129487.000000  129487.000000  129487.000000   \n",
       "mean        0.690764       0.309236       3.057349       2.756786   \n",
       "std         0.462180       0.462180       1.526787       1.401662   \n",
       "min         0.000000       0.000000       0.000000       0.000000   \n",
       "25%         0.000000       0.000000       2.000000       2.000000   \n",
       "50%         1.000000       0.000000       3.000000       3.000000   \n",
       "75%         1.000000       1.000000       4.000000       4.000000   \n",
       "max         1.000000       1.000000       5.000000       5.000000   \n",
       "\n",
       "                  2              3   ...             10             11  \\\n",
       "count  129487.000000  129487.000000  ...  129487.000000  129487.000000   \n",
       "mean        2.976909       3.204685  ...       3.306239       3.642373   \n",
       "std         1.278506       1.329905  ...       1.266146       1.176614   \n",
       "min         0.000000       0.000000  ...       0.000000       0.000000   \n",
       "25%         2.000000       2.000000  ...       3.000000       3.000000   \n",
       "50%         3.000000       3.000000  ...       3.000000       4.000000   \n",
       "75%         4.000000       4.000000  ...       4.000000       5.000000   \n",
       "max         5.000000       5.000000  ...       5.000000       5.000000   \n",
       "\n",
       "                  12             13             14             0   \\\n",
       "count  129487.000000  129487.000000  129487.000000  129487.000000   \n",
       "mean        3.286222       2.728544       0.593704       0.234089   \n",
       "std         1.313624       1.329235       0.621371       0.201446   \n",
       "min         0.000000       0.000000       0.000000       0.000000   \n",
       "25%         2.000000       2.000000       0.000000       0.077342   \n",
       "50%         3.000000       3.000000       1.000000       0.164176   \n",
       "75%         4.000000       4.000000       1.000000       0.345921   \n",
       "max         5.000000       5.000000       2.000000       1.000000   \n",
       "\n",
       "                 0             1             2             3   \n",
       "count  1.294870e+05  1.294870e+05  1.294870e+05  1.294870e+05  \n",
       "mean  -5.549664e-16  1.934504e-15  1.292855e-15 -2.133626e-16  \n",
       "std    1.000004e+00  1.000004e+00  1.000004e+00  1.000004e+00  \n",
       "min   -2.145109e+00 -3.923289e-01 -3.860357e-01 -3.278910e+00  \n",
       "25%   -8.221419e-01 -3.923289e-01 -3.860357e-01 -6.883924e-01  \n",
       "50%    3.778650e-02 -3.923289e-01 -3.860357e-01  6.717516e-02  \n",
       "75%    7.654182e-01 -5.436375e-02 -6.968615e-02  7.148045e-01  \n",
       "max    3.014462e+00  4.078743e+01  4.158301e+01  2.657693e+00  \n",
       "\n",
       "[8 rows x 26 columns]"
      ]
     },
     "execution_count": 34,
     "metadata": {},
     "output_type": "execute_result"
    }
   ],
   "source": [
    "X_encoded.describe()"
   ]
  },
  {
   "cell_type": "code",
   "execution_count": 29,
   "id": "1f081176",
   "metadata": {},
   "outputs": [
    {
     "data": {
      "text/html": [
       "<div>\n",
       "<style scoped>\n",
       "    .dataframe tbody tr th:only-of-type {\n",
       "        vertical-align: middle;\n",
       "    }\n",
       "\n",
       "    .dataframe tbody tr th {\n",
       "        vertical-align: top;\n",
       "    }\n",
       "\n",
       "    .dataframe thead th {\n",
       "        text-align: right;\n",
       "    }\n",
       "</style>\n",
       "<table border=\"1\" class=\"dataframe\">\n",
       "  <thead>\n",
       "    <tr style=\"text-align: right;\">\n",
       "      <th></th>\n",
       "      <th>0</th>\n",
       "      <th>1</th>\n",
       "      <th>2</th>\n",
       "      <th>3</th>\n",
       "      <th>4</th>\n",
       "      <th>5</th>\n",
       "    </tr>\n",
       "  </thead>\n",
       "  <tbody>\n",
       "    <tr>\n",
       "      <th>0</th>\n",
       "      <td>0.0</td>\n",
       "      <td>1.0</td>\n",
       "      <td>1.0</td>\n",
       "      <td>0.0</td>\n",
       "      <td>0.0</td>\n",
       "      <td>1.0</td>\n",
       "    </tr>\n",
       "    <tr>\n",
       "      <th>1</th>\n",
       "      <td>0.0</td>\n",
       "      <td>1.0</td>\n",
       "      <td>0.0</td>\n",
       "      <td>1.0</td>\n",
       "      <td>1.0</td>\n",
       "      <td>0.0</td>\n",
       "    </tr>\n",
       "    <tr>\n",
       "      <th>2</th>\n",
       "      <td>1.0</td>\n",
       "      <td>0.0</td>\n",
       "      <td>1.0</td>\n",
       "      <td>0.0</td>\n",
       "      <td>1.0</td>\n",
       "      <td>0.0</td>\n",
       "    </tr>\n",
       "    <tr>\n",
       "      <th>3</th>\n",
       "      <td>1.0</td>\n",
       "      <td>0.0</td>\n",
       "      <td>1.0</td>\n",
       "      <td>0.0</td>\n",
       "      <td>1.0</td>\n",
       "      <td>0.0</td>\n",
       "    </tr>\n",
       "    <tr>\n",
       "      <th>4</th>\n",
       "      <td>0.0</td>\n",
       "      <td>1.0</td>\n",
       "      <td>1.0</td>\n",
       "      <td>0.0</td>\n",
       "      <td>1.0</td>\n",
       "      <td>0.0</td>\n",
       "    </tr>\n",
       "  </tbody>\n",
       "</table>\n",
       "</div>"
      ],
      "text/plain": [
       "     0    1    2    3    4    5\n",
       "0  0.0  1.0  1.0  0.0  0.0  1.0\n",
       "1  0.0  1.0  0.0  1.0  1.0  0.0\n",
       "2  1.0  0.0  1.0  0.0  1.0  0.0\n",
       "3  1.0  0.0  1.0  0.0  1.0  0.0\n",
       "4  0.0  1.0  1.0  0.0  1.0  0.0"
      ]
     },
     "execution_count": 29,
     "metadata": {},
     "output_type": "execute_result"
    }
   ],
   "source": [
    "pd.DataFrame(one_hot_encoded_X.toarray()).head()\n",
    "#one_hot_encoded_X.shape"
   ]
  },
  {
   "cell_type": "code",
   "execution_count": 21,
   "id": "e6e9de65",
   "metadata": {},
   "outputs": [
    {
     "data": {
      "text/plain": [
       "(129487, 15)"
      ]
     },
     "execution_count": 21,
     "metadata": {},
     "output_type": "execute_result"
    }
   ],
   "source": [
    "X_ordinal.shape"
   ]
  },
  {
   "cell_type": "code",
   "execution_count": 22,
   "id": "dabb4c35",
   "metadata": {},
   "outputs": [
    {
     "data": {
      "text/plain": [
       "(129487, 1)"
      ]
     },
     "execution_count": 22,
     "metadata": {},
     "output_type": "execute_result"
    }
   ],
   "source": [
    "X_min_max_scaled.shape"
   ]
  },
  {
   "cell_type": "code",
   "execution_count": 23,
   "id": "0d860a47",
   "metadata": {},
   "outputs": [
    {
     "data": {
      "text/plain": [
       "(129487, 4)"
      ]
     },
     "execution_count": 23,
     "metadata": {},
     "output_type": "execute_result"
    }
   ],
   "source": [
    "standard_scaled.shape"
   ]
  },
  {
   "cell_type": "code",
   "execution_count": null,
   "id": "b42cef88",
   "metadata": {},
   "outputs": [],
   "source": []
  }
 ],
 "metadata": {
  "kernelspec": {
   "display_name": "Python 3 (ipykernel)",
   "language": "python",
   "name": "python3"
  },
  "language_info": {
   "codemirror_mode": {
    "name": "ipython",
    "version": 3
   },
   "file_extension": ".py",
   "mimetype": "text/x-python",
   "name": "python",
   "nbconvert_exporter": "python",
   "pygments_lexer": "ipython3",
   "version": "3.9.13"
  }
 },
 "nbformat": 4,
 "nbformat_minor": 5
}
