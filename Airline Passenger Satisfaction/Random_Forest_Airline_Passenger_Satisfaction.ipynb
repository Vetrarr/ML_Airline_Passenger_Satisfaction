{
 "cells": [
  {
   "cell_type": "code",
   "execution_count": 10,
   "id": "b69da348",
   "metadata": {},
   "outputs": [],
   "source": [
    "#Sélection des hyperparamètres avec la cross validation\n",
    "\n",
    "#Sélection de subset pour trouver le coude"
   ]
  },
  {
   "cell_type": "code",
   "execution_count": 11,
   "id": "b881bb41",
   "metadata": {},
   "outputs": [],
   "source": [
    "import pandas as pd\n",
    "import numpy as np\n",
    "from matplotlib import pyplot as plt\n",
    "import seaborn as sns"
   ]
  },
  {
   "cell_type": "code",
   "execution_count": 12,
   "id": "fd9a7083",
   "metadata": {},
   "outputs": [],
   "source": [
    "df = pd.read_csv(\"./airline_satisfaction.csv\")\n",
    "df.drop('Unnamed: 0', inplace = True, axis=1)\n",
    "df.shape\n",
    "df=df.dropna()"
   ]
  },
  {
   "cell_type": "code",
   "execution_count": 13,
   "id": "589b300d",
   "metadata": {},
   "outputs": [],
   "source": [
    "def tranche_age(x):\n",
    "    if x<18: return 0\n",
    "    if x< 30: return 1\n",
    "    if x< 50: return 2\n",
    "    return 3\n",
    "df[\"tranche_age\"]=df.Age.apply(lambda x: tranche_age(x))"
   ]
  },
  {
   "cell_type": "code",
   "execution_count": null,
   "id": "ab9713dc",
   "metadata": {},
   "outputs": [],
   "source": []
  },
  {
   "cell_type": "code",
   "execution_count": 17,
   "id": "1890fc1f",
   "metadata": {},
   "outputs": [],
   "source": [
    "# My target is satisfaction\n",
    "y = df.satisfaction.values\n",
    "# For demonstration, I'm taking only 4 columns\n",
    "categorical_variables = [\"Departure/Arrival time convenient\",\"Ease of Online booking\",\"Gate location\",\n",
    "           \"Food and drink\",\"Online boarding\",\"Seat comfort\",\"Inflight entertainment\",\"On-board service\",\"Leg room service\",\n",
    "           \"Baggage handling\",\"Checkin service\",\"Inflight service\",\"Cleanliness\",\"Gender\",\"Customer Type\",\"Type of Travel\",\"tranche_age\"]\n",
    "quantitative_variables = [\"Age\",\"Flight Distance\",\"Arrival Delay in Minutes\",\"Departure Delay in Minutes\"]\n",
    "X = df[categorical_variables + quantitative_variables].values\n",
    "X_quantitative = df[quantitative_variables].values\n",
    "X_categorical = df[categorical_variables].values\n",
    "\n",
    "#Baggage handling de 1 à 5?"
   ]
  },
  {
   "cell_type": "code",
   "execution_count": 20,
   "id": "cd7378ae",
   "metadata": {},
   "outputs": [],
   "source": [
    "from sklearn.preprocessing import LabelEncoder\n",
    "label_encoder = LabelEncoder()"
   ]
  },
  {
   "cell_type": "code",
   "execution_count": 21,
   "id": "7b2978f4",
   "metadata": {},
   "outputs": [
    {
     "name": "stdout",
     "output_type": "stream",
     "text": [
      "===== Encoded classes: [0 1 2 3 4 5]\n",
      "===== Encoded classes: [0 1 2 3 4 5]\n",
      "===== Encoded classes: [0 1 2 3 4 5]\n",
      "===== Encoded classes: [0 1 2 3 4 5]\n",
      "===== Encoded classes: [0 1 2 3 4 5]\n",
      "===== Encoded classes: [0 1 2 3 4 5]\n",
      "===== Encoded classes: [0 1 2 3 4 5]\n",
      "===== Encoded classes: [0 1 2 3 4 5]\n",
      "===== Encoded classes: [0 1 2 3 4 5]\n",
      "===== Encoded classes: [1 2 3 4 5]\n",
      "===== Encoded classes: [0 1 2 3 4 5]\n",
      "===== Encoded classes: [0 1 2 3 4 5]\n",
      "===== Encoded classes: [0 1 2 3 4 5]\n",
      "===== Encoded classes: ['Female' 'Male']\n",
      "===== Encoded classes: ['Loyal Customer' 'disloyal Customer']\n",
      "===== Encoded classes: ['Business travel' 'Personal Travel']\n",
      "===== Encoded classes: [0 1 2 3]\n"
     ]
    }
   ],
   "source": [
    "encoded_vars = []\n",
    "for categorical_var in X_categorical.T:\n",
    "    encoded_vars.append(label_encoder.fit_transform(categorical_var))\n",
    "    print(f\"===== Encoded classes: {label_encoder.classes_}\")"
   ]
  },
  {
   "cell_type": "code",
   "execution_count": 22,
   "id": "b1821931",
   "metadata": {},
   "outputs": [],
   "source": [
    "X_categorical = np.array(encoded_vars).T"
   ]
  },
  {
   "cell_type": "code",
   "execution_count": 23,
   "id": "7dcb5089",
   "metadata": {},
   "outputs": [
    {
     "data": {
      "text/plain": [
       "array([[4, 3, 1, ..., 0, 1, 0],\n",
       "       [2, 3, 3, ..., 1, 0, 1],\n",
       "       [2, 2, 2, ..., 0, 0, 1],\n",
       "       ...,\n",
       "       [5, 1, 5, ..., 0, 1, 0],\n",
       "       [3, 3, 3, ..., 0, 0, 0],\n",
       "       [5, 2, 5, ..., 0, 1, 2]])"
      ]
     },
     "execution_count": 23,
     "metadata": {},
     "output_type": "execute_result"
    }
   ],
   "source": [
    "X_categorical"
   ]
  },
  {
   "cell_type": "code",
   "execution_count": null,
   "id": "8182f300",
   "metadata": {},
   "outputs": [],
   "source": []
  },
  {
   "cell_type": "code",
   "execution_count": null,
   "id": "328c3857",
   "metadata": {},
   "outputs": [],
   "source": []
  }
 ],
 "metadata": {
  "kernelspec": {
   "display_name": "Python 3 (ipykernel)",
   "language": "python",
   "name": "python3"
  },
  "language_info": {
   "codemirror_mode": {
    "name": "ipython",
    "version": 3
   },
   "file_extension": ".py",
   "mimetype": "text/x-python",
   "name": "python",
   "nbconvert_exporter": "python",
   "pygments_lexer": "ipython3",
   "version": "3.9.13"
  }
 },
 "nbformat": 4,
 "nbformat_minor": 5
}
