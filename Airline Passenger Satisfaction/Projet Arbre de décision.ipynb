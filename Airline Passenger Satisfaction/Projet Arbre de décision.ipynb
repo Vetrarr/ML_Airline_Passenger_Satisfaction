{
 "cells": [
  {
   "cell_type": "code",
   "execution_count": 1,
   "id": "99d70c10",
   "metadata": {},
   "outputs": [],
   "source": [
    "import pandas as pd\n",
    "import numpy as np\n",
    "from matplotlib import pyplot as plt\n",
    "df = pd.read_csv(\"cc1/airline_satisfaction.csv\")\n",
    "df.drop('Unnamed: 0', inplace = True, axis=1)\n",
    "df =df.dropna()\n",
    "df = df.reset_index()"
   ]
  },
  {
   "cell_type": "code",
   "execution_count": 2,
   "id": "7cdd498b",
   "metadata": {},
   "outputs": [
    {
     "name": "stdout",
     "output_type": "stream",
     "text": [
      "13\n"
     ]
    }
   ],
   "source": [
    "ordinal = [\"Departure/Arrival time convenient\",\"Ease of Online booking\",\"Gate location\",\n",
    "           \"Food and drink\",\"Online boarding\",\"Seat comfort\",\"Inflight entertainment\",\"On-board service\",\"Leg room service\",\n",
    "           \"Baggage handling\",\"Checkin service\",\"Inflight service\",\"Cleanliness\"]\n",
    "df[\"Note_totale\"]=df[\"Inflight wifi service\"]\n",
    "print(len(ordinal))\n",
    "for i in ordinal:\n",
    "    df[\"Note_totale\"]+=df[i]"
   ]
  },
  {
   "cell_type": "code",
   "execution_count": 3,
   "id": "1891dd43",
   "metadata": {},
   "outputs": [],
   "source": [
    "ordinal += [\"Inflight wifi service\"]\n",
    "target=[\"satisfaction\"]\n",
    "quantitative =[\"Arrival Delay in Minutes\",\"Departure Delay in Minutes\",\"Age\",\"Flight Distance\",\"Note_totale\"]#\"Arrival Delay in Minutes\",\"Departure Delay in Minutes\",\n",
    "ordinal+=[\"Class\"]\n",
    "qualitative=[\"Gender\",\"Customer Type\",\"Type of Travel\"]\n",
    "features=quantitative+qualitative+ordinal"
   ]
  },
  {
   "cell_type": "code",
   "execution_count": 7,
   "id": "0c77e0a0",
   "metadata": {},
   "outputs": [],
   "source": [
    "X_qualitative = df[qualitative].values\n",
    "X_ordinal = df[ordinal].values\n",
    "X_quantitative = df[quantitative].values\n",
    "y=df[target].values"
   ]
  },
  {
   "cell_type": "code",
   "execution_count": 13,
   "id": "41e2d989",
   "metadata": {},
   "outputs": [
    {
     "data": {
      "text/plain": [
       "array([[0., 1., 1., 0., 0., 1.],\n",
       "       [0., 1., 0., 1., 1., 0.],\n",
       "       [1., 0., 1., 0., 1., 0.],\n",
       "       ...,\n",
       "       [1., 0., 1., 0., 0., 1.],\n",
       "       [0., 1., 1., 0., 1., 0.],\n",
       "       [1., 0., 1., 0., 0., 1.]])"
      ]
     },
     "execution_count": 13,
     "metadata": {},
     "output_type": "execute_result"
    }
   ],
   "source": [
    "from sklearn.preprocessing import OneHotEncoder\n",
    "encoder=OneHotEncoder()\n",
    "X_qualitative_preprocessed=encoder.fit_transform(X_qualitative)\n",
    "X_qualitative_preprocessed.toarray()"
   ]
  },
  {
   "cell_type": "code",
   "execution_count": 19,
   "id": "25aa1df0",
   "metadata": {},
   "outputs": [],
   "source": [
    "from sklearn.preprocessing import LabelEncoder\n",
    "label_encoder = LabelEncoder()\n",
    "encoded_vars = []\n",
    "for categorical_var in X_ordinal.T:\n",
    "    encoded_vars.append(label_encoder.fit_transform(categorical_var))\n",
    "X_ordinal = np.array(encoded_vars).T"
   ]
  },
  {
   "cell_type": "code",
   "execution_count": 20,
   "id": "f2861352",
   "metadata": {},
   "outputs": [],
   "source": [
    "X = np.concatenate([X_qualitative_preprocessed.toarray(),X_ordinal,X_quantitative],axis=1)"
   ]
  },
  {
   "cell_type": "code",
   "execution_count": 23,
   "id": "7a0545df",
   "metadata": {},
   "outputs": [],
   "source": [
    "from sklearn.tree import DecisionTreeClassifier\n",
    "from sklearn.metrics import classification_report"
   ]
  },
  {
   "cell_type": "code",
   "execution_count": 24,
   "id": "38e479e0",
   "metadata": {},
   "outputs": [
    {
     "name": "stdout",
     "output_type": "stream",
     "text": [
      "                         precision    recall  f1-score   support\n",
      "\n",
      "neutral or dissatisfied       1.00      1.00      1.00     73225\n",
      "              satisfied       1.00      1.00      1.00     56262\n",
      "\n",
      "               accuracy                           1.00    129487\n",
      "              macro avg       1.00      1.00      1.00    129487\n",
      "           weighted avg       1.00      1.00      1.00    129487\n",
      "\n"
     ]
    }
   ],
   "source": [
    "arbre_decision = DecisionTreeClassifier()\n",
    "arbre_decision.fit(X,y)\n",
    "predictions=arbre_decision.predict(X)\n",
    "print(classification_report(predictions,y))"
   ]
  },
  {
   "cell_type": "code",
   "execution_count": 26,
   "id": "3d439f0b",
   "metadata": {},
   "outputs": [
    {
     "name": "stdout",
     "output_type": "stream",
     "text": [
      "0.9469213351024944\n",
      "0.94584843747897\n",
      "0.946209680959706\n"
     ]
    }
   ],
   "source": [
    "from sklearn.tree import DecisionTreeClassifier\n",
    "decisionTreeClassifier = DecisionTreeClassifier(criterion=\"gini\",random_state=0)\n",
    "#decisionTreeClassifier.fit_transform(X,y)\n",
    "from sklearn.model_selection import cross_val_score\n",
    "cross_val_accuracy = cross_val_score(estimator=decisionTreeClassifier, X=X,y=y,cv=10,scoring=\"accuracy\")\n",
    "print(cross_val_accuracy.mean())\n",
    "cross_val_precision = cross_val_score(estimator=decisionTreeClassifier, X=X,y=y,cv=10,scoring=\"precision_macro\")\n",
    "print(cross_val_precision.mean())\n",
    "cross_val_recall = cross_val_score(estimator=decisionTreeClassifier, X=X, y=y, cv=10, scoring=\"recall_macro\")\n",
    "print(cross_val_recall.mean())"
   ]
  },
  {
   "cell_type": "code",
   "execution_count": 28,
   "id": "abe50253",
   "metadata": {},
   "outputs": [
    {
     "name": "stdout",
     "output_type": "stream",
     "text": [
      "0.9480488633278726\n",
      "0.9470423985257186\n",
      "0.9472828452117742\n"
     ]
    }
   ],
   "source": [
    "from sklearn.tree import DecisionTreeClassifier\n",
    "decisionTreeClassifier = DecisionTreeClassifier(criterion=\"entropy\",random_state=0)\n",
    "#decisionTreeClassifier.fit_transform(X,y)\n",
    "from sklearn.model_selection import cross_val_score\n",
    "cross_val_accuracy = cross_val_score(estimator=decisionTreeClassifier, X=X,y=y,cv=10,scoring=\"accuracy\")\n",
    "print(cross_val_accuracy.mean())\n",
    "cross_val_precision = cross_val_score(estimator=decisionTreeClassifier, X=X,y=y,cv=10,scoring=\"precision_macro\")\n",
    "print(cross_val_precision.mean())\n",
    "cross_val_recall = cross_val_score(estimator=decisionTreeClassifier, X=X, y=y, cv=10, scoring=\"recall_macro\")\n",
    "print(cross_val_recall.mean())"
   ]
  },
  {
   "cell_type": "code",
   "execution_count": 35,
   "id": "531e96a5",
   "metadata": {},
   "outputs": [
    {
     "data": {
      "text/plain": [
       "GridSearchCV(estimator=DecisionTreeClassifier(),\n",
       "             param_grid={'criterion': ['gini', 'entropy'],\n",
       "                         'max_depth': range(1, 20),\n",
       "                         'max_features': [1, 2, 3, 4, 5, 6, 7, 8, 9, 10]})"
      ]
     },
     "execution_count": 35,
     "metadata": {},
     "output_type": "execute_result"
    }
   ],
   "source": [
    "from sklearn.model_selection import GridSearchCV\n",
    "decision_tree_classifier=DecisionTreeClassifier()\n",
    "grid_search_cv = GridSearchCV(estimator=decision_tree_classifier,\n",
    "                              param_grid={\"criterion\": [\"gini\", \"entropy\"],\n",
    "                                         \"max_features\": [1, 2, 3,4,5,6,7,8,9,10],\n",
    "                                         \"max_depth\": range(1, 20, 1)})\n",
    "grid_search_cv.fit(X, y)"
   ]
  },
  {
   "cell_type": "code",
   "execution_count": 81,
   "id": "e5981d2a",
   "metadata": {},
   "outputs": [
    {
     "data": {
      "text/plain": [
       "GridSearchCV(estimator=DecisionTreeClassifier(),\n",
       "             param_grid={'criterion': ['gini', 'entropy'],\n",
       "                         'max_depth': range(1, 7),\n",
       "                         'max_features': [1, 2, 3, 4, 5, 6, 7, 8, 9, 10]})"
      ]
     },
     "execution_count": 81,
     "metadata": {},
     "output_type": "execute_result"
    }
   ],
   "source": [
    "from sklearn.model_selection import GridSearchCV\n",
    "decision_tree_classifier=DecisionTreeClassifier()\n",
    "grid_search_cv = GridSearchCV(estimator=decision_tree_classifier,\n",
    "                              param_grid={\"criterion\": [\"gini\", \"entropy\"],\n",
    "                                         \"max_features\": [1, 2, 3,4,5,6,7,8,9,10],\n",
    "                                         \"max_depth\": range(1, 7, 1)})\n",
    "grid_search_cv.fit(X, y)"
   ]
  },
  {
   "cell_type": "code",
   "execution_count": 36,
   "id": "3b9dab8b",
   "metadata": {},
   "outputs": [
    {
     "name": "stdout",
     "output_type": "stream",
     "text": [
      "{'criterion': 'entropy', 'max_depth': 17, 'max_features': 10}\n"
     ]
    }
   ],
   "source": [
    "print(grid_search_cv.best_params_)# avec 20"
   ]
  },
  {
   "cell_type": "code",
   "execution_count": 37,
   "id": "3ad2179c",
   "metadata": {},
   "outputs": [
    {
     "name": "stdout",
     "output_type": "stream",
     "text": [
      "0.9515859117575127\n"
     ]
    }
   ],
   "source": [
    "print(grid_search_cv.best_score_)# avec 20"
   ]
  },
  {
   "cell_type": "code",
   "execution_count": 82,
   "id": "f191594c",
   "metadata": {},
   "outputs": [
    {
     "name": "stdout",
     "output_type": "stream",
     "text": [
      "{'criterion': 'gini', 'max_depth': 6, 'max_features': 10}\n"
     ]
    }
   ],
   "source": [
    "print(grid_search_cv.best_params_)# avec 10"
   ]
  },
  {
   "cell_type": "code",
   "execution_count": 83,
   "id": "9a991da2",
   "metadata": {},
   "outputs": [
    {
     "name": "stdout",
     "output_type": "stream",
     "text": [
      "0.9168101253862894\n"
     ]
    }
   ],
   "source": [
    "print(grid_search_cv.best_score_)# avec 10"
   ]
  },
  {
   "cell_type": "code",
   "execution_count": 112,
   "id": "ef47ac4c",
   "metadata": {},
   "outputs": [
    {
     "data": {
      "text/plain": [
       "DecisionTreeClassifier(criterion='entropy', max_depth=7, max_features=10)"
      ]
     },
     "execution_count": 112,
     "metadata": {},
     "output_type": "execute_result"
    }
   ],
   "source": [
    "decisiontree=DecisionTreeClassifier(criterion=\"entropy\", max_depth=7,max_features=10)\n",
    "decisiontree.fit(X,y)"
   ]
  },
  {
   "cell_type": "code",
   "execution_count": 110,
   "id": "70b99852",
   "metadata": {},
   "outputs": [],
   "source": [
    "from sklearn.model_selection import cross_val_score\n",
    "decisiontree=DecisionTreeClassifier(criterion=\"entropy\", max_depth=7,max_features=10)\n",
    "cross_val_NB_precision=cross_val_score(estimator=decisiontree,X=X,y=y,cv=5,scoring=\"precision_macro\")\n",
    "cross_val_NB_recall=cross_val_score(estimator=decisiontree,X=X,y=y,cv=5,scoring=\"recall_macro\")\n",
    "cross_val_NB_accuracy=cross_val_score(estimator=decisiontree,X=X,y=y,cv=5,scoring=\"accuracy\")"
   ]
  },
  {
   "cell_type": "code",
   "execution_count": 103,
   "id": "bdf536bb",
   "metadata": {},
   "outputs": [
    {
     "data": {
      "text/plain": [
       "array([0.80693315, 0.81922729, 0.84598556, 0.810319  , 0.85508628])"
      ]
     },
     "execution_count": 103,
     "metadata": {},
     "output_type": "execute_result"
    }
   ],
   "source": [
    "cross_val_NB_precision"
   ]
  },
  {
   "cell_type": "code",
   "execution_count": 104,
   "id": "ff63f3c6",
   "metadata": {},
   "outputs": [
    {
     "data": {
      "text/plain": [
       "array([0.81097276, 0.85712729, 0.83594626, 0.83406849, 0.80620774])"
      ]
     },
     "execution_count": 104,
     "metadata": {},
     "output_type": "execute_result"
    }
   ],
   "source": [
    "cross_val_NB_recall"
   ]
  },
  {
   "cell_type": "code",
   "execution_count": 105,
   "id": "02e15fee",
   "metadata": {},
   "outputs": [
    {
     "data": {
      "text/plain": [
       "array([0.85481504, 0.81114372, 0.80074912, 0.81337607, 0.82028806])"
      ]
     },
     "execution_count": 105,
     "metadata": {},
     "output_type": "execute_result"
    }
   ],
   "source": [
    "cross_val_NB_accuracy"
   ]
  },
  {
   "cell_type": "code",
   "execution_count": 114,
   "id": "6f7cf7a9",
   "metadata": {
    "scrolled": false
   },
   "outputs": [
    {
     "name": "stdout",
     "output_type": "stream",
     "text": [
      "0  :  x0_Female\n",
      "1  :  x0_Male\n",
      "2  :  x1_Loyal Customer\n",
      "3  :  x1_disloyal Customer\n",
      "4  :  x2_Business travel\n",
      "5  :  x2_Personal Travel\n",
      "6  :  Departure/Arrival time convenient\n",
      "7  :  Ease of Online booking\n",
      "8  :  Gate location\n",
      "9  :  Food and drink\n",
      "10  :  Online boarding\n",
      "11  :  Seat comfort\n",
      "12  :  Inflight entertainment\n",
      "13  :  On-board service\n",
      "14  :  Leg room service\n",
      "15  :  Baggage handling\n",
      "16  :  Checkin service\n",
      "17  :  Inflight service\n",
      "18  :  Cleanliness\n",
      "19  :  Inflight wifi service\n",
      "20  :  Class\n",
      "21  :  Arrival Delay in Minutes\n",
      "22  :  Departure Delay in Minutes\n",
      "23  :  Age\n",
      "24  :  Flight Distance\n",
      "25  :  Note_totale\n"
     ]
    },
    {
     "data": {
      "image/png": "[encoded data removed]",
      "text/plain": [
       "<Figure size 640x480 with 1 Axes>"
      ]
     },
     "metadata": {},
     "output_type": "display_data"
    }
   ],
   "source": [
    "import seaborn as sns\n",
    "feature_names = encoder.get_feature_names_out().tolist()+ordinal+quantitative\n",
    "for i in range(0,26):\n",
    "    print(i, \" : \",feature_names[i])\n",
    "#print(feature_names)\n",
    "g = sns.barplot(x=list(range(len(decisiontree.feature_importances_))),\n",
    "            y=decisiontree.feature_importances_)\n",
    "#g.set_xticklabels(feature_names)"
   ]
  },
  {
   "cell_type": "code",
   "execution_count": 44,
   "id": "929f44b6",
   "metadata": {},
   "outputs": [],
   "source": [
    "from sklearn.tree import plot_tree"
   ]
  },
  {
   "cell_type": "code",
   "execution_count": 113,
   "id": "94961ac4",
   "metadata": {
    "scrolled": true
   },
   "outputs": [
    {
     "data": {
      "text/plain": [
       "[Text(0.3627996575342466, 0.9375, 'X[10] <= 3.5\\nentropy = 0.988\\nsamples = 129487\\nvalue = [73225, 56262]'),\n",
       " Text(0.08476027397260275, 0.8125, 'X[19] <= 0.5\\nentropy = 0.61\\nsamples = 65193\\nvalue = [55408, 9785]'),\n",
       " Text(0.02054794520547945, 0.6875, 'X[7] <= 2.0\\nentropy = 0.041\\nsamples = 2244\\nvalue = [10, 2234]'),\n",
       " Text(0.0136986301369863, 0.5625, 'X[7] <= 0.5\\nentropy = 0.015\\nsamples = 2237\\nvalue = [3, 2234]'),\n",
       " Text(0.00684931506849315, 0.4375, 'entropy = 0.0\\nsamples = 2102\\nvalue = [0, 2102]'),\n",
       " Text(0.02054794520547945, 0.4375, 'X[18] <= 0.5\\nentropy = 0.154\\nsamples = 135\\nvalue = [3, 132]'),\n",
       " Text(0.0136986301369863, 0.3125, 'entropy = 0.0\\nsamples = 3\\nvalue = [3, 0]'),\n",
       " Text(0.0273972602739726, 0.3125, 'entropy = 0.0\\nsamples = 132\\nvalue = [0, 132]'),\n",
       " Text(0.0273972602739726, 0.5625, 'entropy = 0.0\\nsamples = 7\\nvalue = [7, 0]'),\n",
       " Text(0.14897260273972604, 0.6875, 'X[19] <= 3.5\\nentropy = 0.529\\nsamples = 62949\\nvalue = [55398, 7551]'),\n",
       " Text(0.07534246575342465, 0.5625, 'X[5] <= 0.5\\nentropy = 0.348\\nsamples = 57020\\nvalue = [53293, 3727]'),\n",
       " Text(0.0684931506849315, 0.4375, 'X[17] <= 4.5\\nentropy = 0.519\\nsamples = 32048\\nvalue = [28321, 3727]'),\n",
       " Text(0.0410958904109589, 0.3125, 'X[2] <= 0.5\\nentropy = 0.418\\nsamples = 27632\\nvalue = [25298, 2334]'),\n",
       " Text(0.0273972602739726, 0.1875, 'X[20] <= 0.5\\nentropy = 0.08\\nsamples = 11978\\nvalue = [11859, 119]'),\n",
       " Text(0.02054794520547945, 0.0625, 'entropy = 0.188\\nsamples = 2996\\nvalue = [2910, 86]'),\n",
       " Text(0.03424657534246575, 0.0625, 'entropy = 0.035\\nsamples = 8982\\nvalue = [8949, 33]'),\n",
       " Text(0.0547945205479452, 0.1875, 'X[12] <= 3.5\\nentropy = 0.588\\nsamples = 15654\\nvalue = [13439, 2215]'),\n",
       " Text(0.04794520547945205, 0.0625, 'entropy = 0.395\\nsamples = 14076\\nvalue = [12978, 1098]'),\n",
       " Text(0.06164383561643835, 0.0625, 'entropy = 0.871\\nsamples = 1578\\nvalue = [461, 1117]'),\n",
       " Text(0.0958904109589041, 0.3125, 'X[3] <= 0.5\\nentropy = 0.899\\nsamples = 4416\\nvalue = [3023, 1393]'),\n",
       " Text(0.0821917808219178, 0.1875, 'X[6] <= 0.5\\nentropy = 0.121\\nsamples = 1336\\nvalue = [22, 1314]'),\n",
       " Text(0.07534246575342465, 0.0625, 'entropy = 0.0\\nsamples = 15\\nvalue = [15, 0]'),\n",
       " Text(0.08904109589041095, 0.0625, 'entropy = 0.048\\nsamples = 1321\\nvalue = [7, 1314]'),\n",
       " Text(0.1095890410958904, 0.1875, 'X[10] <= 1.5\\nentropy = 0.172\\nsamples = 3080\\nvalue = [3001, 79]'),\n",
       " Text(0.10273972602739725, 0.0625, 'entropy = 0.0\\nsamples = 714\\nvalue = [714, 0]'),\n",
       " Text(0.11643835616438356, 0.0625, 'entropy = 0.211\\nsamples = 2366\\nvalue = [2287, 79]'),\n",
       " Text(0.0821917808219178, 0.4375, 'entropy = 0.0\\nsamples = 24972\\nvalue = [24972, 0]'),\n",
       " Text(0.2226027397260274, 0.5625, 'X[14] <= 4.5\\nentropy = 0.938\\nsamples = 5929\\nvalue = [2105, 3824]'),\n",
       " Text(0.1780821917808219, 0.4375, 'X[19] <= 4.5\\nentropy = 0.994\\nsamples = 4261\\nvalue = [1930, 2331]'),\n",
       " Text(0.1506849315068493, 0.3125, 'X[4] <= 0.5\\nentropy = 0.992\\nsamples = 3426\\nvalue = [1889, 1537]'),\n",
       " Text(0.136986301369863, 0.1875, 'X[21] <= 5.5\\nentropy = 0.828\\nsamples = 947\\nvalue = [700, 247]'),\n",
       " Text(0.13013698630136986, 0.0625, 'entropy = 0.911\\nsamples = 656\\nvalue = [442, 214]'),\n",
       " Text(0.14383561643835616, 0.0625, 'entropy = 0.51\\nsamples = 291\\nvalue = [258, 33]'),\n",
       " Text(0.1643835616438356, 0.1875, 'X[18] <= 4.5\\nentropy = 0.999\\nsamples = 2479\\nvalue = [1189, 1290]'),\n",
       " Text(0.15753424657534246, 0.0625, 'entropy = 0.998\\nsamples = 2222\\nvalue = [1168, 1054]'),\n",
       " Text(0.17123287671232876, 0.0625, 'entropy = 0.408\\nsamples = 257\\nvalue = [21, 236]'),\n",
       " Text(0.2054794520547945, 0.3125, 'X[12] <= 4.5\\nentropy = 0.283\\nsamples = 835\\nvalue = [41, 794]'),\n",
       " Text(0.1917808219178082, 0.1875, 'X[7] <= 4.5\\nentropy = 0.049\\nsamples = 724\\nvalue = [4, 720]'),\n",
       " Text(0.18493150684931506, 0.0625, 'entropy = 0.179\\nsamples = 148\\nvalue = [4, 144]'),\n",
       " Text(0.19863013698630136, 0.0625, 'entropy = 0.0\\nsamples = 576\\nvalue = [0, 576]'),\n",
       " Text(0.2191780821917808, 0.1875, 'X[13] <= 4.5\\nentropy = 0.918\\nsamples = 111\\nvalue = [37, 74]'),\n",
       " Text(0.21232876712328766, 0.0625, 'entropy = 0.0\\nsamples = 34\\nvalue = [0, 34]'),\n",
       " Text(0.22602739726027396, 0.0625, 'entropy = 0.999\\nsamples = 77\\nvalue = [37, 40]'),\n",
       " Text(0.2671232876712329, 0.4375, 'X[19] <= 4.5\\nentropy = 0.484\\nsamples = 1668\\nvalue = [175, 1493]'),\n",
       " Text(0.2602739726027397, 0.3125, 'X[4] <= 0.5\\nentropy = 0.829\\nsamples = 670\\nvalue = [175, 495]'),\n",
       " Text(0.2465753424657534, 0.1875, 'X[23] <= 52.5\\nentropy = 0.781\\nsamples = 151\\nvalue = [116, 35]'),\n",
       " Text(0.23972602739726026, 0.0625, 'entropy = 0.863\\nsamples = 105\\nvalue = [75, 30]'),\n",
       " Text(0.2534246575342466, 0.0625, 'entropy = 0.496\\nsamples = 46\\nvalue = [41, 5]'),\n",
       " Text(0.273972602739726, 0.1875, 'X[13] <= 4.5\\nentropy = 0.511\\nsamples = 519\\nvalue = [59, 460]'),\n",
       " Text(0.2671232876712329, 0.0625, 'entropy = 0.9\\nsamples = 171\\nvalue = [54, 117]'),\n",
       " Text(0.2808219178082192, 0.0625, 'entropy = 0.109\\nsamples = 348\\nvalue = [5, 343]'),\n",
       " Text(0.273972602739726, 0.3125, 'entropy = 0.0\\nsamples = 998\\nvalue = [0, 998]'),\n",
       " Text(0.6408390410958904, 0.8125, 'X[12] <= 3.5\\nentropy = 0.851\\nsamples = 64294\\nvalue = [17817, 46477]'),\n",
       " Text(0.4785958904109589, 0.6875, 'X[20] <= 0.5\\nentropy = 0.997\\nsamples = 20250\\nvalue = [10756, 9494]'),\n",
       " Text(0.3886986301369863, 0.5625, 'X[10] <= 4.5\\nentropy = 0.925\\nsamples = 10003\\nvalue = [3405, 6598]'),\n",
       " Text(0.3424657534246575, 0.4375, 'X[11] <= 4.5\\nentropy = 0.998\\nsamples = 6580\\nvalue = [3135, 3445]'),\n",
       " Text(0.3150684931506849, 0.3125, 'X[15] <= 2.5\\nentropy = 0.991\\nsamples = 5453\\nvalue = [3024, 2429]'),\n",
       " Text(0.3013698630136986, 0.1875, 'X[11] <= 3.5\\nentropy = 0.924\\nsamples = 3787\\nvalue = [2502, 1285]'),\n",
       " Text(0.2945205479452055, 0.0625, 'entropy = 0.602\\nsamples = 1479\\nvalue = [1262, 217]'),\n",
       " Text(0.3082191780821918, 0.0625, 'entropy = 0.996\\nsamples = 2308\\nvalue = [1240, 1068]'),\n",
       " Text(0.3287671232876712, 0.1875, 'X[23] <= 24.5\\nentropy = 0.897\\nsamples = 1666\\nvalue = [522, 1144]'),\n",
       " Text(0.3219178082191781, 0.0625, 'entropy = 0.504\\nsamples = 395\\nvalue = [44, 351]'),\n",
       " Text(0.3356164383561644, 0.0625, 'entropy = 0.955\\nsamples = 1271\\nvalue = [478, 793]'),\n",
       " Text(0.3698630136986301, 0.3125, 'X[12] <= 1.5\\nentropy = 0.464\\nsamples = 1127\\nvalue = [111, 1016]'),\n",
       " Text(0.3561643835616438, 0.1875, 'X[5] <= 0.5\\nentropy = 0.873\\nsamples = 116\\nvalue = [34, 82]'),\n",
       " Text(0.3493150684931507, 0.0625, 'entropy = 0.331\\nsamples = 82\\nvalue = [5, 77]'),\n",
       " Text(0.363013698630137, 0.0625, 'entropy = 0.602\\nsamples = 34\\nvalue = [29, 5]'),\n",
       " Text(0.3835616438356164, 0.1875, 'X[5] <= 0.5\\nentropy = 0.389\\nsamples = 1011\\nvalue = [77, 934]'),\n",
       " Text(0.3767123287671233, 0.0625, 'entropy = 0.086\\nsamples = 933\\nvalue = [10, 923]'),\n",
       " Text(0.3904109589041096, 0.0625, 'entropy = 0.587\\nsamples = 78\\nvalue = [67, 11]'),\n",
       " Text(0.4349315068493151, 0.4375, 'X[4] <= 0.5\\nentropy = 0.398\\nsamples = 3423\\nvalue = [270, 3153]'),\n",
       " Text(0.4178082191780822, 0.3125, 'X[19] <= 4.5\\nentropy = 0.73\\nsamples = 289\\nvalue = [230, 59]'),\n",
       " Text(0.410958904109589, 0.1875, 'X[7] <= 0.5\\nentropy = 0.415\\nsamples = 251\\nvalue = [230, 21]'),\n",
       " Text(0.4041095890410959, 0.0625, 'entropy = 0.918\\nsamples = 9\\nvalue = [3, 6]'),\n",
       " Text(0.4178082191780822, 0.0625, 'entropy = 0.335\\nsamples = 242\\nvalue = [227, 15]'),\n",
       " Text(0.4246575342465753, 0.1875, 'entropy = 0.0\\nsamples = 38\\nvalue = [0, 38]'),\n",
       " Text(0.4520547945205479, 0.3125, 'X[23] <= 40.5\\nentropy = 0.099\\nsamples = 3134\\nvalue = [40, 3094]'),\n",
       " Text(0.4383561643835616, 0.1875, 'X[2] <= 0.5\\nentropy = 0.18\\nsamples = 1213\\nvalue = [33, 1180]'),\n",
       " Text(0.4315068493150685, 0.0625, 'entropy = 0.269\\nsamples = 697\\nvalue = [32, 665]'),\n",
       " Text(0.4452054794520548, 0.0625, 'entropy = 0.02\\nsamples = 516\\nvalue = [1, 515]'),\n",
       " Text(0.4657534246575342, 0.1875, 'X[22] <= 177.0\\nentropy = 0.035\\nsamples = 1921\\nvalue = [7, 1914]'),\n",
       " Text(0.4589041095890411, 0.0625, 'entropy = 0.022\\nsamples = 1887\\nvalue = [4, 1883]'),\n",
       " Text(0.4726027397260274, 0.0625, 'entropy = 0.431\\nsamples = 34\\nvalue = [3, 31]'),\n",
       " Text(0.5684931506849316, 0.5625, 'X[19] <= 4.5\\nentropy = 0.859\\nsamples = 10247\\nvalue = [7351, 2896]'),\n",
       " Text(0.5342465753424658, 0.4375, 'X[23] <= 41.5\\nentropy = 0.687\\nsamples = 8997\\nvalue = [7350, 1647]'),\n",
       " Text(0.5068493150684932, 0.3125, 'X[21] <= 5.5\\nentropy = 0.84\\nsamples = 3867\\nvalue = [2828, 1039]'),\n",
       " Text(0.4931506849315068, 0.1875, 'X[19] <= 0.5\\nentropy = 0.906\\nsamples = 2478\\nvalue = [1682, 796]'),\n",
       " Text(0.4863013698630137, 0.0625, 'entropy = 0.0\\nsamples = 19\\nvalue = [0, 19]'),\n",
       " Text(0.5, 0.0625, 'entropy = 0.9\\nsamples = 2459\\nvalue = [1682, 777]'),\n",
       " Text(0.5205479452054794, 0.1875, 'X[4] <= 0.5\\nentropy = 0.669\\nsamples = 1389\\nvalue = [1146, 243]'),\n",
       " Text(0.5136986301369864, 0.0625, 'entropy = 0.456\\nsamples = 708\\nvalue = [640, 68]'),\n",
       " Text(0.5273972602739726, 0.0625, 'entropy = 0.822\\nsamples = 681\\nvalue = [506, 175]'),\n",
       " Text(0.5616438356164384, 0.3125, 'X[1] <= 0.5\\nentropy = 0.525\\nsamples = 5130\\nvalue = [4522, 608]'),\n",
       " Text(0.547945205479452, 0.1875, 'X[19] <= 0.5\\nentropy = 0.44\\nsamples = 4069\\nvalue = [3698, 371]'),\n",
       " Text(0.541095890410959, 0.0625, 'entropy = 0.0\\nsamples = 77\\nvalue = [0, 77]'),\n",
       " Text(0.5547945205479452, 0.0625, 'entropy = 0.379\\nsamples = 3992\\nvalue = [3698, 294]'),\n",
       " Text(0.5753424657534246, 0.1875, 'X[19] <= 3.5\\nentropy = 0.766\\nsamples = 1061\\nvalue = [824, 237]'),\n",
       " Text(0.5684931506849316, 0.0625, 'entropy = 0.071\\nsamples = 235\\nvalue = [233, 2]'),\n",
       " Text(0.5821917808219178, 0.0625, 'entropy = 0.862\\nsamples = 826\\nvalue = [591, 235]'),\n",
       " Text(0.6027397260273972, 0.4375, 'X[7] <= 2.5\\nentropy = 0.009\\nsamples = 1250\\nvalue = [1, 1249]'),\n",
       " Text(0.5958904109589042, 0.3125, 'X[21] <= 264.0\\nentropy = 0.183\\nsamples = 36\\nvalue = [1, 35]'),\n",
       " Text(0.589041095890411, 0.1875, 'entropy = 0.0\\nsamples = 28\\nvalue = [0, 28]'),\n",
       " Text(0.6027397260273972, 0.1875, 'X[23] <= 37.0\\nentropy = 0.544\\nsamples = 8\\nvalue = [1, 7]'),\n",
       " Text(0.5958904109589042, 0.0625, 'entropy = 1.0\\nsamples = 2\\nvalue = [1, 1]'),\n",
       " Text(0.6095890410958904, 0.0625, 'entropy = 0.0\\nsamples = 6\\nvalue = [0, 6]'),\n",
       " Text(0.6095890410958904, 0.3125, 'entropy = 0.0\\nsamples = 1214\\nvalue = [0, 1214]'),\n",
       " Text(0.803082191780822, 0.6875, 'X[4] <= 0.5\\nentropy = 0.635\\nsamples = 44044\\nvalue = [7061, 36983]'),\n",
       " Text(0.7157534246575342, 0.5625, 'X[7] <= 4.5\\nentropy = 0.761\\nsamples = 5437\\nvalue = [4237, 1200]'),\n",
       " Text(0.6712328767123288, 0.4375, 'X[19] <= 3.5\\nentropy = 0.566\\nsamples = 4621\\nvalue = [4006, 615]'),\n",
       " Text(0.6438356164383562, 0.3125, 'X[7] <= 0.5\\nentropy = 0.135\\nsamples = 2535\\nvalue = [2487, 48]'),\n",
       " Text(0.6301369863013698, 0.1875, 'X[23] <= 66.5\\nentropy = 0.954\\nsamples = 123\\nvalue = [77, 46]'),\n",
       " Text(0.6232876712328768, 0.0625, 'entropy = 0.974\\nsamples = 111\\nvalue = [66, 45]'),\n",
       " Text(0.636986301369863, 0.0625, 'entropy = 0.414\\nsamples = 12\\nvalue = [11, 1]'),\n",
       " Text(0.6575342465753424, 0.1875, 'X[7] <= 1.5\\nentropy = 0.01\\nsamples = 2412\\nvalue = [2410, 2]'),\n",
       " Text(0.6506849315068494, 0.0625, 'entropy = 0.042\\nsamples = 439\\nvalue = [437, 2]'),\n",
       " Text(0.6643835616438356, 0.0625, 'entropy = 0.0\\nsamples = 1973\\nvalue = [1973, 0]'),\n",
       " Text(0.6986301369863014, 0.3125, 'X[8] <= 2.5\\nentropy = 0.844\\nsamples = 2086\\nvalue = [1519, 567]'),\n",
       " Text(0.684931506849315, 0.1875, 'X[14] <= 3.5\\nentropy = 0.88\\nsamples = 682\\nvalue = [478, 204]'),\n",
       " Text(0.678082191780822, 0.0625, 'entropy = 0.922\\nsamples = 314\\nvalue = [208, 106]'),\n",
       " Text(0.6917808219178082, 0.0625, 'entropy = 0.836\\nsamples = 368\\nvalue = [270, 98]'),\n",
       " Text(0.7123287671232876, 0.1875, 'X[25] <= 45.5\\nentropy = 0.825\\nsamples = 1404\\nvalue = [1041, 363]'),\n",
       " Text(0.7054794520547946, 0.0625, 'entropy = 0.429\\nsamples = 57\\nvalue = [52, 5]'),\n",
       " Text(0.7191780821917808, 0.0625, 'entropy = 0.835\\nsamples = 1347\\nvalue = [989, 358]'),\n",
       " Text(0.7602739726027398, 0.4375, 'X[19] <= 4.5\\nentropy = 0.86\\nsamples = 816\\nvalue = [231, 585]'),\n",
       " Text(0.7534246575342466, 0.3125, 'X[22] <= 21.5\\nentropy = 0.544\\nsamples = 264\\nvalue = [231, 33]'),\n",
       " Text(0.7397260273972602, 0.1875, 'X[19] <= 3.5\\nentropy = 0.609\\nsamples = 214\\nvalue = [182, 32]'),\n",
       " Text(0.7328767123287672, 0.0625, 'entropy = 0.0\\nsamples = 105\\nvalue = [105, 0]'),\n",
       " Text(0.7465753424657534, 0.0625, 'entropy = 0.873\\nsamples = 109\\nvalue = [77, 32]'),\n",
       " Text(0.7671232876712328, 0.1875, 'X[16] <= 3.5\\nentropy = 0.141\\nsamples = 50\\nvalue = [49, 1]'),\n",
       " Text(0.7602739726027398, 0.0625, 'entropy = 0.337\\nsamples = 16\\nvalue = [15, 1]'),\n",
       " Text(0.773972602739726, 0.0625, 'entropy = 0.0\\nsamples = 34\\nvalue = [34, 0]'),\n",
       " Text(0.7671232876712328, 0.3125, 'entropy = 0.0\\nsamples = 552\\nvalue = [0, 552]'),\n",
       " Text(0.8904109589041096, 0.5625, 'X[2] <= 0.5\\nentropy = 0.378\\nsamples = 38607\\nvalue = [2824, 35783]'),\n",
       " Text(0.8356164383561644, 0.4375, 'X[25] <= 56.5\\nentropy = 0.961\\nsamples = 2946\\nvalue = [1134, 1812]'),\n",
       " Text(0.8082191780821918, 0.3125, 'X[7] <= 4.5\\nentropy = 1.0\\nsamples = 1870\\nvalue = [928, 942]'),\n",
       " Text(0.7945205479452054, 0.1875, 'X[19] <= 3.5\\nentropy = 0.978\\nsamples = 1511\\nvalue = [888, 623]'),\n",
       " Text(0.7876712328767124, 0.0625, 'entropy = 0.383\\nsamples = 214\\nvalue = [198, 16]'),\n",
       " Text(0.8013698630136986, 0.0625, 'entropy = 0.997\\nsamples = 1297\\nvalue = [690, 607]'),\n",
       " Text(0.821917808219178, 0.1875, 'X[6] <= 0.5\\nentropy = 0.504\\nsamples = 359\\nvalue = [40, 319]'),\n",
       " Text(0.815068493150685, 0.0625, 'entropy = 0.189\\nsamples = 173\\nvalue = [5, 168]'),\n",
       " Text(0.8287671232876712, 0.0625, 'entropy = 0.698\\nsamples = 186\\nvalue = [35, 151]'),\n",
       " Text(0.863013698630137, 0.3125, 'X[7] <= 4.5\\nentropy = 0.704\\nsamples = 1076\\nvalue = [206, 870]'),\n",
       " Text(0.8493150684931506, 0.1875, 'X[19] <= 4.5\\nentropy = 0.952\\nsamples = 497\\nvalue = [185, 312]'),\n",
       " Text(0.8424657534246576, 0.0625, 'entropy = 0.97\\nsamples = 465\\nvalue = [185, 280]'),\n",
       " Text(0.8561643835616438, 0.0625, 'entropy = 0.0\\nsamples = 32\\nvalue = [0, 32]'),\n",
       " Text(0.8767123287671232, 0.1875, 'X[19] <= 4.5\\nentropy = 0.225\\nsamples = 579\\nvalue = [21, 558]'),\n",
       " Text(0.8698630136986302, 0.0625, 'entropy = 0.954\\nsamples = 56\\nvalue = [21, 35]'),\n",
       " Text(0.8835616438356164, 0.0625, 'entropy = 0.0\\nsamples = 523\\nvalue = [0, 523]'),\n",
       " Text(0.9452054794520548, 0.4375, 'X[10] <= 4.5\\nentropy = 0.275\\nsamples = 35661\\nvalue = [1690, 33971]'),\n",
       " Text(0.9178082191780822, 0.3125, 'X[16] <= 2.5\\nentropy = 0.432\\nsamples = 19033\\nvalue = [1688, 17345]'),\n",
       " Text(0.9041095890410958, 0.1875, 'X[17] <= 4.5\\nentropy = 0.902\\nsamples = 2702\\nvalue = [859, 1843]'),\n",
       " Text(0.8972602739726028, 0.0625, 'entropy = 0.967\\nsamples = 2123\\nvalue = [836, 1287]'),\n",
       " Text(0.910958904109589, 0.0625, 'entropy = 0.241\\nsamples = 579\\nvalue = [23, 556]'),\n",
       " Text(0.9315068493150684, 0.1875, 'X[11] <= 4.5\\nentropy = 0.29\\nsamples = 16331\\nvalue = [829, 15502]'),\n",
       " Text(0.9246575342465754, 0.0625, 'entropy = 0.383\\nsamples = 10480\\nvalue = [783, 9697]'),\n",
       " Text(0.9383561643835616, 0.0625, 'entropy = 0.066\\nsamples = 5851\\nvalue = [46, 5805]'),\n",
       " Text(0.9726027397260274, 0.3125, 'X[18] <= 1.5\\nentropy = 0.002\\nsamples = 16628\\nvalue = [2, 16626]'),\n",
       " Text(0.958904109589041, 0.1875, 'X[21] <= 39.0\\nentropy = 0.042\\nsamples = 222\\nvalue = [1, 221]'),\n",
       " Text(0.952054794520548, 0.0625, 'entropy = 0.0\\nsamples = 201\\nvalue = [0, 201]'),\n",
       " Text(0.9657534246575342, 0.0625, 'entropy = 0.276\\nsamples = 21\\nvalue = [1, 20]'),\n",
       " Text(0.9863013698630136, 0.1875, 'X[15] <= 2.5\\nentropy = 0.001\\nsamples = 16406\\nvalue = [1, 16405]'),\n",
       " Text(0.9794520547945206, 0.0625, 'entropy = 0.006\\nsamples = 2050\\nvalue = [1, 2049]'),\n",
       " Text(0.9931506849315068, 0.0625, 'entropy = 0.0\\nsamples = 14356\\nvalue = [0, 14356]')]"
      ]
     },
     "execution_count": 113,
     "metadata": {},
     "output_type": "execute_result"
    },
    {
     "data": {
      "image/png": "[encoded data removed]",
      "text/plain": [
       "<Figure size 640x480 with 1 Axes>"
      ]
     },
     "metadata": {},
     "output_type": "display_data"
    }
   ],
   "source": [
    "plot_tree(decisiontree)"
   ]
  },
  {
   "cell_type": "code",
   "execution_count": null,
   "id": "4219961f",
   "metadata": {},
   "outputs": [],
   "source": []
  },
  {
   "cell_type": "code",
   "execution_count": null,
   "id": "141dff64",
   "metadata": {},
   "outputs": [],
   "source": []
  }
 ],
 "metadata": {
  "kernelspec": {
   "display_name": "Python 3 (ipykernel)",
   "language": "python",
   "name": "python3"
  },
  "language_info": {
   "codemirror_mode": {
    "name": "ipython",
    "version": 3
   },
   "file_extension": ".py",
   "mimetype": "text/x-python",
   "name": "python",
   "nbconvert_exporter": "python",
   "pygments_lexer": "ipython3",
   "version": "3.9.13"
  }
 },
 "nbformat": 4,
 "nbformat_minor": 5
}
