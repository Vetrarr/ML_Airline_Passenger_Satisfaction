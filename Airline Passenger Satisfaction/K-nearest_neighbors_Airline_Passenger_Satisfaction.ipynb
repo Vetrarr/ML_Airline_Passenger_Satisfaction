{
 "cells": [
  {
   "cell_type": "code",
   "execution_count": 1,
   "id": "9958e37e",
   "metadata": {},
   "outputs": [],
   "source": [
    "from matplotlib import pyplot as plt\n",
    "import pandas as pd\n",
    "import seaborn as sns\n",
    "import numpy as np"
   ]
  },
  {
   "cell_type": "code",
   "execution_count": 2,
   "id": "638bd432",
   "metadata": {},
   "outputs": [
    {
     "data": {
      "text/plain": [
       "(129880, 24)"
      ]
     },
     "execution_count": 2,
     "metadata": {},
     "output_type": "execute_result"
    }
   ],
   "source": [
    "df = pd.read_csv(\"./airline_satisfaction.csv\")\n",
    "df.drop('Unnamed: 0', inplace = True, axis=1)\n",
    "df.shape"
   ]
  },
  {
   "cell_type": "code",
   "execution_count": 3,
   "id": "c9aea797",
   "metadata": {},
   "outputs": [],
   "source": [
    "df=df.dropna()"
   ]
  },
  {
   "cell_type": "code",
   "execution_count": 4,
   "id": "c2dcb638",
   "metadata": {},
   "outputs": [],
   "source": [
    "ordinal = [\"Departure/Arrival time convenient\",\"Ease of Online booking\",\"Gate location\",\n",
    "           \"Food and drink\",\"Online boarding\",\"Seat comfort\",\"Inflight entertainment\",\"On-board service\",\"Leg room service\",\n",
    "           \"Baggage handling\",\"Checkin service\",\"Inflight service\",\"Cleanliness\"]\n",
    "df[\"Note_totale\"]=df[\"Inflight wifi service\"]\n",
    "for i in ordinal:\n",
    "    df[\"Note_totale\"]+=df[i]"
   ]
  },
  {
   "cell_type": "code",
   "execution_count": 5,
   "id": "f0516907",
   "metadata": {},
   "outputs": [],
   "source": [
    "ordinal += [\"Note_totale\", \"Inflight wifi service\"]"
   ]
  },
  {
   "cell_type": "code",
   "execution_count": 6,
   "id": "e2fbfa4c",
   "metadata": {},
   "outputs": [],
   "source": [
    "def tranche_age(x):\n",
    "    if x<18: return 0\n",
    "    if x< 30: return 1\n",
    "    if x< 50: return 2\n",
    "    return 3\n",
    "df[\"tranche_age\"]=df.Age.apply(lambda x: tranche_age(x))"
   ]
  },
  {
   "cell_type": "code",
   "execution_count": 7,
   "id": "fc6c6f1c",
   "metadata": {},
   "outputs": [],
   "source": [
    "df[\"retard_en_vol\"]=df[\"Arrival Delay in Minutes\"]-df[\"Departure Delay in Minutes\"]\n",
    "#si negatif : le vol à rattraper du retard"
   ]
  },
  {
   "cell_type": "code",
   "execution_count": 8,
   "id": "8a561ba3",
   "metadata": {},
   "outputs": [
    {
     "data": {
      "text/plain": [
       "False    129487\n",
       "Name: Arrival Delay in Minutes, dtype: int64"
      ]
     },
     "execution_count": 8,
     "metadata": {},
     "output_type": "execute_result"
    }
   ],
   "source": [
    "mask = df[\"Arrival Delay in Minutes\"] <0\n",
    "mask.value_counts()\n",
    "#aucun vol arrive en avance"
   ]
  },
  {
   "cell_type": "code",
   "execution_count": 9,
   "id": "f1c05bfe",
   "metadata": {},
   "outputs": [],
   "source": [
    "target=[\"satisfaction\"]\n",
    "quantitative =[\"Age\",\"Flight Distance\",\"Arrival Delay in Minutes\",\"Departure Delay in Minutes\",\"retard_en_vol\"]\n",
    "ordinal+=[\"Class\"]\n",
    "qualitative=[\"Gender\",\"Customer Type\",\"Type of Travel\",\"tranche_age\"]"
   ]
  },
  {
   "cell_type": "code",
   "execution_count": 10,
   "id": "e1bdf259",
   "metadata": {},
   "outputs": [],
   "source": [
    "features=quantitative+qualitative+ordinal"
   ]
  },
  {
   "cell_type": "code",
   "execution_count": null,
   "id": "b480e08a",
   "metadata": {},
   "outputs": [],
   "source": [
    "y=df.satisfaction.values\n",
    "X=df[qualitative+quantitative].values\n",
    "X_quantitative=df[quantitative].values\n",
    "X_categorical=df[qualitative].values"
   ]
  },
  {
   "cell_type": "code",
   "execution_count": null,
   "id": "a8c4a2fd",
   "metadata": {},
   "outputs": [],
   "source": [
    "#One-hot Encoding pour les variables qualitative\n",
    "from sklearn.preprocessing import OneHotEncoder\n",
    "one_hot_encoder=OneHotEncoder()\n",
    "one_hot_encoder.fit(X_categorical)\n",
    "one_hot_encoded_X=one_hot_encoder.transform(X_categorical)"
   ]
  },
  {
   "cell_type": "code",
   "execution_count": null,
   "id": "a3dfaf03",
   "metadata": {},
   "outputs": [],
   "source": [
    "one_hot_encoded_X.toarray()\n",
    "one_hot_encoder.get_feature_names_out()\n",
    "\n",
    "print(\"nombre de variables\")\n",
    "len(one_hot_encoder.get_feature_names_out())-2"
   ]
  },
  {
   "cell_type": "code",
   "execution_count": null,
   "id": "d252e0b3",
   "metadata": {},
   "outputs": [],
   "source": [
    "X_encoded = np.concatenate([one_hot_encoded_X.toarray(), X_quantitative], axis=1)"
   ]
  },
  {
   "cell_type": "code",
   "execution_count": null,
   "id": "b8fd60cc",
   "metadata": {},
   "outputs": [],
   "source": [
    "print(f\"Initial number of features: {X_quantitative.shape[1] + X_categorical.shape[1]}\")\n",
    "print(f\"New number of features: {X_encoded.shape[1]}\")"
   ]
  },
  {
   "cell_type": "code",
   "execution_count": null,
   "id": "34d1095e",
   "metadata": {},
   "outputs": [],
   "source": [
    "#ORDINAL ENCODING\n",
    "from sklearn.preprocessing import LabelEncoder"
   ]
  },
  {
   "cell_type": "code",
   "execution_count": null,
   "id": "be18f696",
   "metadata": {},
   "outputs": [],
   "source": [
    "label_encoder = LabelEncoder()\n",
    "X_ordinal=df[ordinal].values"
   ]
  },
  {
   "cell_type": "code",
   "execution_count": null,
   "id": "75ed044b",
   "metadata": {},
   "outputs": [],
   "source": [
    "encoded_vars = []\n",
    "for categorical_var in X_ordinal.T:\n",
    "    encoded_vars.append(label_encoder.fit_transform(categorical_var))\n",
    "    print(f\"===== Encoded classes: {label_encoder.classes_}\")"
   ]
  },
  {
   "cell_type": "code",
   "execution_count": null,
   "id": "bb9519dd",
   "metadata": {},
   "outputs": [],
   "source": [
    "X_categorical = np.array(encoded_vars).T"
   ]
  },
  {
   "cell_type": "code",
   "execution_count": null,
   "id": "8389e5fa",
   "metadata": {},
   "outputs": [],
   "source": [
    "X_labelled_categories=np.concatenate([encoded_vars],axis=1)\n",
    "X_labelled=np.concatenate([X_labelled_categories.T, X_quantitative],axis=1)\n",
    "X_labelled"
   ]
  },
  {
   "cell_type": "code",
   "execution_count": null,
   "id": "3bbb9a54",
   "metadata": {},
   "outputs": [],
   "source": [
    "from sklearn.preprocessing import MinMaxScaler\n",
    "\n",
    "min_max_scaler = MinMaxScaler()\n",
    "min_max_scaler.fit(X_quantitative)\n",
    "scaled_quantitative = min_max_scaler.transform(X_quantitative)"
   ]
  },
  {
   "cell_type": "code",
   "execution_count": null,
   "id": "27a874b7",
   "metadata": {},
   "outputs": [],
   "source": [
    "############"
   ]
  },
  {
   "cell_type": "code",
   "execution_count": 22,
   "id": "ad83686a",
   "metadata": {},
   "outputs": [],
   "source": [
    "from sklearn.dummy import DummyClassifier"
   ]
  },
  {
   "cell_type": "code",
   "execution_count": 25,
   "id": "362ed748",
   "metadata": {},
   "outputs": [],
   "source": [
    "y=df[target].values\n",
    "X=df[quantitative]"
   ]
  },
  {
   "cell_type": "code",
   "execution_count": 26,
   "id": "284107ac",
   "metadata": {},
   "outputs": [
    {
     "ename": "ValueError",
     "evalue": "The constant target value must be present in the training data. You provided constant=0. Possible values are: ['neutral or dissatisfied', 'satisfied'].",
     "output_type": "error",
     "traceback": [
      "\u001b[1;31m---------------------------------------------------------------------------\u001b[0m",
      "\u001b[1;31mValueError\u001b[0m                                Traceback (most recent call last)",
      "\u001b[1;32m~\\AppData\\Local\\Temp\\ipykernel_23788\\3404493136.py\u001b[0m in \u001b[0;36m<module>\u001b[1;34m\u001b[0m\n\u001b[0;32m      3\u001b[0m \u001b[1;33m\u001b[0m\u001b[0m\n\u001b[0;32m      4\u001b[0m \u001b[1;31m# I train it\u001b[0m\u001b[1;33m\u001b[0m\u001b[1;33m\u001b[0m\u001b[0m\n\u001b[1;32m----> 5\u001b[1;33m \u001b[0mdummy_classifier\u001b[0m\u001b[1;33m.\u001b[0m\u001b[0mfit\u001b[0m\u001b[1;33m(\u001b[0m\u001b[0mX\u001b[0m\u001b[1;33m,\u001b[0m \u001b[0my\u001b[0m\u001b[1;33m)\u001b[0m\u001b[1;33m\u001b[0m\u001b[1;33m\u001b[0m\u001b[0m\n\u001b[0m",
      "\u001b[1;32m~\\anaconda3\\lib\\site-packages\\sklearn\\dummy.py\u001b[0m in \u001b[0;36mfit\u001b[1;34m(self, X, y, sample_weight)\u001b[0m\n\u001b[0;32m    222\u001b[0m                         )\n\u001b[0;32m    223\u001b[0m                     )\n\u001b[1;32m--> 224\u001b[1;33m                     \u001b[1;32mraise\u001b[0m \u001b[0mValueError\u001b[0m\u001b[1;33m(\u001b[0m\u001b[0merr_msg\u001b[0m\u001b[1;33m)\u001b[0m\u001b[1;33m\u001b[0m\u001b[1;33m\u001b[0m\u001b[0m\n\u001b[0m\u001b[0;32m    225\u001b[0m \u001b[1;33m\u001b[0m\u001b[0m\n\u001b[0;32m    226\u001b[0m         \u001b[1;32mif\u001b[0m \u001b[0mself\u001b[0m\u001b[1;33m.\u001b[0m\u001b[0mn_outputs_\u001b[0m \u001b[1;33m==\u001b[0m \u001b[1;36m1\u001b[0m\u001b[1;33m:\u001b[0m\u001b[1;33m\u001b[0m\u001b[1;33m\u001b[0m\u001b[0m\n",
      "\u001b[1;31mValueError\u001b[0m: The constant target value must be present in the training data. You provided constant=0. Possible values are: ['neutral or dissatisfied', 'satisfied']."
     ]
    }
   ],
   "source": [
    "# I create an object of class DummyClassifier\n",
    "dummy_classifier = DummyClassifier(strategy=\"constant\", constant=0)\n",
    "\n",
    "# I train it\n",
    "dummy_classifier.fit(X, y)"
   ]
  },
  {
   "cell_type": "code",
   "execution_count": null,
   "id": "8fba4ecb",
   "metadata": {},
   "outputs": [],
   "source": [
    "##########\n",
    "#A KNeighborsClassifier with and\n",
    "\"\"\"\n",
    "Bonus: Test other distances, and be critical about it!, especially if you have qualitative variable.\n",
    "\n",
    "Bonus++: Create your own distance, especially if you're working with a mix of quantitative/qualitative/ordinal variables.\n",
    "\n",
    "Plot on the same plot the accuracy score, the recall score, the precision score, as a function of\n",
    "\n",
    "for each distance (and put them side by side).\n",
    "\n",
    "\"Conclude\" regarding:\n",
    "\n",
    "    The performance of knn in general on your dataset\n",
    "    The best \n",
    "\n",
    "    to select\n",
    "    The best distance to select\n",
    "\n",
    "Bonus: perform a deeper analysis of your classifier, using graphical and statistical tools to analyze the records that were misclassified, and try explaining the results.\n",
    "\"\"\""
   ]
  },
  {
   "cell_type": "code",
   "execution_count": null,
   "id": "a16927cb",
   "metadata": {},
   "outputs": [],
   "source": [
    "from sklearn.neighbors import KNeighborsClassifier\n",
    "from sklearn.metrics import recall_score"
   ]
  },
  {
   "cell_type": "code",
   "execution_count": null,
   "id": "33f38da8",
   "metadata": {},
   "outputs": [],
   "source": [
    "accuracy_scores_euc = []\n",
    "precision_scores_euc = []\n",
    "recall_scores_euc = []\n",
    "\n",
    "for k in [1, 3, 5, 7, 9]:\n",
    "    print(f\"k = {k}\")\n",
    "    knn = KNeighborsClassifier(n_neighbors=k, p=2)\n",
    "    print(\"======= Train KNN\")\n",
    "    knn.fit(X, y)\n",
    "    print(\"======= Predict on training data\")\n",
    "    prediction = knn.predict(X)\n",
    "    accuracy_scores_euc.append(accuracy_score(prediction, y))\n",
    "    precision_scores_euc.append(precision_score(prediction, y))\n",
    "    recall_scores_euc.append(recall_score(prediction, y))\n",
    "    \n",
    "accuracy_scores_man = []\n",
    "precision_scores_man = []\n",
    "recall_scores_man = []\n",
    "\n",
    "neighbors = [1, 3, 5, 7, 9]\n",
    "\n",
    "for k in neighbors:\n",
    "    print(f\"k = {k}\")\n",
    "    knn = KNeighborsClassifier(n_neighbors=k, p=1)\n",
    "    print(\"======= Train KNN\")\n",
    "    knn.fit(X, y)\n",
    "    print(\"======= Predict on training data\")\n",
    "    prediction = knn.predict(X)\n",
    "    accuracy_scores_man.append(accuracy_score(prediction, y))\n",
    "    precision_scores_man.append(precision_score(prediction, y))\n",
    "    recall_scores_man.append(recall_score(prediction, y))"
   ]
  },
  {
   "cell_type": "code",
   "execution_count": null,
   "id": "514e03ea",
   "metadata": {},
   "outputs": [],
   "source": [
    "plt.plot(neighbors, accuracy_scores_euc)\n",
    "plt.title(\"Evolution of the accuracy score as a function of the number of neighbors (dist = euclidean)\")\n",
    "plt.show()\n",
    "\n",
    "plt.plot(neighbors, precision_scores_euc)\n",
    "plt.title(\"Evolution of the precision score as a function of the number of neighbors (dist = euclidean)\")\n",
    "\n",
    "plt.show()\n",
    "\n",
    "plt.plot(neighbors, recall_scores_euc)\n",
    "plt.title(\"Evolution of the recall score as a function of the number of neighbors (dist = euclidean)\")\n",
    "\n",
    "plt.show()"
   ]
  },
  {
   "cell_type": "code",
   "execution_count": null,
   "id": "c2c6d3d1",
   "metadata": {},
   "outputs": [],
   "source": [
    "\"\"\"Splitting into train and test\"\"\""
   ]
  },
  {
   "cell_type": "code",
   "execution_count": null,
   "id": "e2e1560f",
   "metadata": {},
   "outputs": [],
   "source": [
    "from sklearn.model_selection import train_test_split"
   ]
  },
  {
   "cell_type": "code",
   "execution_count": null,
   "id": "2041d844",
   "metadata": {},
   "outputs": [],
   "source": [
    "\n",
    "\n",
    "# Split intro 4 datasets: X_train, y_train, X_test, y_test, with a 70% / 30%\n",
    "X_train, X_test, y_train, y_test = train_test_split(X, y, test_size=0.3)\n",
    "\n"
   ]
  },
  {
   "cell_type": "code",
   "execution_count": null,
   "id": "ba4cad15",
   "metadata": {},
   "outputs": [],
   "source": [
    "split_accuracy = []\n",
    "for i in range(1, 600, 100):\n",
    "    knn = KNeighborsClassifier(n_neighbors=i, p=2)\n",
    "    knn.fit(X_train, y_train)\n",
    "    print(f\"k={i}\")\n",
    "    prediction = knn.predict(X_test)\n",
    "    print(f\"Accuracy: {accuracy_score(y_test, prediction)}\")\n",
    "    split_accuracy.append(accuracy_score(y_test, prediction))"
   ]
  },
  {
   "cell_type": "code",
   "execution_count": null,
   "id": "a930fa9c",
   "metadata": {},
   "outputs": [],
   "source": [
    "plt.plot(split_accuracy)"
   ]
  },
  {
   "cell_type": "code",
   "execution_count": null,
   "id": "c6d458bf",
   "metadata": {},
   "outputs": [],
   "source": [
    "\n",
    "\n",
    "knn_final = KNeighborsClassifier(n_neighbors=9, p=2)\n",
    "knn_final.fit(X, y)\n",
    "final_score = accuracy_score(knn_final.predict(X), y)\n",
    "\n",
    "print(\"=====\")\n",
    "print(final_score)\n",
    "print(\"=====\")\n",
    "\n"
   ]
  },
  {
   "cell_type": "code",
   "execution_count": null,
   "id": "3d510a03",
   "metadata": {},
   "outputs": [],
   "source": [
    "#Cross validation - k-fold cross validation"
   ]
  },
  {
   "cell_type": "code",
   "execution_count": null,
   "id": "91ff4f24",
   "metadata": {},
   "outputs": [],
   "source": []
  },
  {
   "cell_type": "code",
   "execution_count": null,
   "id": "854ad49a",
   "metadata": {},
   "outputs": [],
   "source": [
    "\n",
    "\n",
    "from sklearn.model_selection import cross_val_score\n",
    "\n"
   ]
  },
  {
   "cell_type": "code",
   "execution_count": null,
   "id": "5dc13a30",
   "metadata": {},
   "outputs": [],
   "source": [
    "\n",
    "\n",
    "cross_val_accuracy = cross_val_score(estimator=dummy_classifier, X=X, y=y, scoring=\"accuracy\")\n",
    "cross_val_precision = cross_val_score(estimator=dummy_classifier, X=X, y=y, scoring=\"precision\")\n",
    "\n"
   ]
  },
  {
   "cell_type": "code",
   "execution_count": null,
   "id": "b0ad37d6",
   "metadata": {},
   "outputs": [],
   "source": [
    "print(\"========================================\")\n",
    "print(f\"=== Average accuracy: {np.mean(cross_val_accuracy)}\")\n",
    "print(f\"=== Median accuracy: {np.median(cross_val_accuracy)}\")\n",
    "print(\"========================================\")\n",
    "print(\"========================================\")\n",
    "\n",
    "print(f\"=== Average precision: {np.mean(cross_val_precision)}\")\n",
    "print(f\"=== Median precision: {np.median(cross_val_precision)}\")\n",
    "print(\"========================================\")"
   ]
  },
  {
   "cell_type": "code",
   "execution_count": null,
   "id": "c5c69773",
   "metadata": {},
   "outputs": [],
   "source": [
    "cross_val_accuracies = []\n",
    "cross_val_accuracies_std = []\n",
    "for k_neighbor in range(1, 15, 2):\n",
    "    knn = KNeighborsClassifier(n_neighbors=k_neighbor)\n",
    "    print(\"======== Score on fold\")\n",
    "    cross_val_accuracy = np.median(cross_val_score(estimator=knn, X=X, y=y, scoring=\"accuracy\", cv=5))\n",
    "    cross_val_accuracy_std = np.std(cross_val_score(estimator=knn, X=X, y=y, scoring=\"accuracy\", cv=5))\n",
    "    print(f\"Standard error on fold: {cross_val_accuracy_std}\")\n",
    "    cross_val_accuracies.append(cross_val_accuracy)\n",
    "    cross_val_accuracies_std.append(cross_val_accuracy_std)"
   ]
  },
  {
   "cell_type": "code",
   "execution_count": null,
   "id": "d370ac9a",
   "metadata": {},
   "outputs": [],
   "source": [
    "\n",
    "\n",
    "plt.plot(cross_val_accuracies)\n",
    "\n"
   ]
  },
  {
   "cell_type": "code",
   "execution_count": null,
   "id": "6332a714",
   "metadata": {},
   "outputs": [],
   "source": [
    "#Choix du k, de la feature le meilleur score, et itérativement jusqu'à \n",
    "#maximiser le score"
   ]
  },
  {
   "cell_type": "code",
   "execution_count": null,
   "id": "f0193ce7",
   "metadata": {},
   "outputs": [],
   "source": []
  },
  {
   "cell_type": "code",
   "execution_count": null,
   "id": "8bdf35eb",
   "metadata": {},
   "outputs": [],
   "source": []
  }
 ],
 "metadata": {
  "kernelspec": {
   "display_name": "Python 3 (ipykernel)",
   "language": "python",
   "name": "python3"
  },
  "language_info": {
   "codemirror_mode": {
    "name": "ipython",
    "version": 3
   },
   "file_extension": ".py",
   "mimetype": "text/x-python",
   "name": "python",
   "nbconvert_exporter": "python",
   "pygments_lexer": "ipython3",
   "version": "3.9.13"
  }
 },
 "nbformat": 4,
 "nbformat_minor": 5
}
